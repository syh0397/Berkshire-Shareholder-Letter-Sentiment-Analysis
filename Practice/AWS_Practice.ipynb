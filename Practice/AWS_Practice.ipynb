{
  "cells": [
    {
      "cell_type": "code",
      "execution_count": 2,
      "metadata": {
        "colab": {
          "base_uri": "https://localhost:8080/"
        },
        "id": "XAsaOGGx75Sf",
        "outputId": "595a4ee1-5f48-4be8-a551-fd93585ae689"
      },
      "outputs": [
        {
          "name": "stdout",
          "output_type": "stream",
          "text": [
            "Requirement already satisfied: tika in /usr/local/lib/python3.7/dist-packages (1.24)\n",
            "Requirement already satisfied: requests in /usr/local/lib/python3.7/dist-packages (from tika) (2.23.0)\n",
            "Requirement already satisfied: setuptools in /usr/local/lib/python3.7/dist-packages (from tika) (54.0.0)\n",
            "Requirement already satisfied: idna<3,>=2.5 in /usr/local/lib/python3.7/dist-packages (from requests->tika) (2.10)\n",
            "Requirement already satisfied: certifi>=2017.4.17 in /usr/local/lib/python3.7/dist-packages (from requests->tika) (2020.12.5)\n",
            "Collecting urllib3!=1.25.0,!=1.25.1,<1.26,>=1.21.1\n",
            "\u001b[?25l  Downloading https://files.pythonhosted.org/packages/56/aa/4ef5aa67a9a62505db124a5cb5262332d1d4153462eb8fd89c9fa41e5d92/urllib3-1.25.11-py2.py3-none-any.whl (127kB)\n",
            "\u001b[K     |████████████████████████████████| 133kB 11.8MB/s \n",
            "\u001b[?25hRequirement already satisfied: chardet<4,>=3.0.2 in /usr/local/lib/python3.7/dist-packages (from requests->tika) (3.0.4)\n",
            "\u001b[31mERROR: datascience 0.10.6 has requirement folium==0.2.1, but you'll have folium 0.8.3 which is incompatible.\u001b[0m\n",
            "Installing collected packages: urllib3\n",
            "  Found existing installation: urllib3 1.26.3\n",
            "    Uninstalling urllib3-1.26.3:\n",
            "      Successfully uninstalled urllib3-1.26.3\n",
            "Successfully installed urllib3-1.25.11\n"
          ]
        }
      ],
      "source": [
        "pip install tika"
      ]
    },
    {
      "cell_type": "code",
      "execution_count": 3,
      "metadata": {
        "colab": {
          "base_uri": "https://localhost:8080/"
        },
        "id": "qU4vSIMb7_VT",
        "outputId": "bac8fce5-ba06-49ed-d61d-d2b4ae58299d"
      },
      "outputs": [
        {
          "name": "stdout",
          "output_type": "stream",
          "text": [
            "Requirement already satisfied: boto3 in /usr/local/lib/python3.7/dist-packages (1.17.27)\n",
            "Requirement already satisfied: jmespath<1.0.0,>=0.7.1 in /usr/local/lib/python3.7/dist-packages (from boto3) (0.10.0)\n",
            "Requirement already satisfied: s3transfer<0.4.0,>=0.3.0 in /usr/local/lib/python3.7/dist-packages (from boto3) (0.3.4)\n",
            "Requirement already satisfied: botocore<1.21.0,>=1.20.27 in /usr/local/lib/python3.7/dist-packages (from boto3) (1.20.27)\n",
            "Requirement already satisfied: python-dateutil<3.0.0,>=2.1 in /usr/local/lib/python3.7/dist-packages (from botocore<1.21.0,>=1.20.27->boto3) (2.8.1)\n",
            "Requirement already satisfied: urllib3<1.27,>=1.25.4 in /usr/local/lib/python3.7/dist-packages (from botocore<1.21.0,>=1.20.27->boto3) (1.25.11)\n",
            "Requirement already satisfied: six>=1.5 in /usr/local/lib/python3.7/dist-packages (from python-dateutil<3.0.0,>=2.1->botocore<1.21.0,>=1.20.27->boto3) (1.15.0)\n"
          ]
        }
      ],
      "source": [
        "pip install boto3"
      ]
    },
    {
      "cell_type": "code",
      "execution_count": 4,
      "metadata": {
        "id": "QtQyMYRA7pOj"
      },
      "outputs": [],
      "source": [
        "from bs4 import BeautifulSoup\n",
        "from tika import parser\n",
        "import urllib.request\n",
        "import datetime\n",
        "import requests\n",
        "import boto3\n",
        "\n",
        "# AWS 인증 상수\n",
        "AWS_ACCESS_KEY_ID = ''\n",
        "AWS_SECRET_ACCESS_KEY = ''\n",
        "\n",
        "# 텍스트 파일 업로드 위해 s3 리소스 사용\n",
        "s3 = boto3.resource(\n",
        "    's3',\n",
        "    aws_access_key_id=AWS_ACCESS_KEY_ID,\n",
        "    aws_secret_access_key=AWS_SECRET_ACCESS_KEY\n",
        ")\n",
        "\n",
        "\n",
        "def extract_target():\n",
        "    \"\"\"\n",
        "    추출 대상이 되는 타겟 리포트 목록 추출\n",
        "    :return:\n",
        "    \"\"\"\n",
        "\n",
        "    # 추출 일자를 현재일로 부터 일주일 이전을 시작으로 현재일자 까지를 추출 범위로 선택\n",
        "    begin_date = datetime.datetime.now().date() + datetime.timedelta(days=-7)\n",
        "    end_date = datetime.datetime.now().date().isoformat()\n",
        "    extract_target_range_url = \"https://finance.naver.com/research/company_list.nhn?keyword=&brokerCode=&searchType=writeDate&writeFromDate={}&writeToDate={}&page={}\"\n",
        "\n",
        "    _target_list = list()\n",
        "    for idx in range(1, 30):\n",
        "        # 1 페이지부터 30페이지까지 하드코딩으로 돌립니다\n",
        "        # ToDo 페이지네이션 마지막 페이지까지 for문 돌도록 수정 필요 합니다 !\n",
        "        html = requests.get(extract_target_range_url.format(begin_date, end_date, idx))\n",
        "        soup = BeautifulSoup(html.text, 'html.parser')\n",
        "\n",
        "        table_class = soup.select('table.type_1')\n",
        "        trs = table_class[0].find_all('tr')\n",
        "\n",
        "        # 딕셔너리에 사명: pdf 다운로드 링크 맵핑하여 삽입\n",
        "        for tr_item in trs[2:-2]:\n",
        "            tds = tr_item.find_all('td')\n",
        "            if not tds[0].get('class'):\n",
        "                company_td = tds[0].text.strip()\n",
        "                file_path_td = tds[3].next.attrs.get('href')\n",
        "\n",
        "                target_elem = {\n",
        "                    'company': company_td,\n",
        "                    'filepath': file_path_td\n",
        "                }\n",
        "                _target_list.append(target_elem)\n",
        "\n",
        "    # 중복된 요소 제거 위함\n",
        "    # ToDo 시간 많이 걸린다면 해당 코드 리팩토링 부탁드립니다 :)\n",
        "    result_list = list({each_target['filepath']: each_target for each_target in _target_list}.values())\n",
        "    return result_list\n",
        "\n",
        "\n",
        "def download_file(download_url, filename):\n",
        "    \"\"\"\n",
        "    로컬에 pdf 파일 다운로드\n",
        "    :param download_url:\n",
        "    :param filename:\n",
        "    :return:\n",
        "    \"\"\"\n",
        "    # ToDo 다운로드 하지 않고 읽어올 수 있다면 해당 방법으로 변경 부탁드려요\n",
        "    response = urllib.request.urlopen(download_url)\n",
        "    file = open(filename + \".pdf\", 'wb')\n",
        "    file.write(response.read())\n",
        "    file.close()\n",
        "\n",
        "\n",
        "def pre_processing(content):\n",
        "    \"\"\"\n",
        "    데이터 전처리\n",
        "    :param content:\n",
        "    :return:\n",
        "    \"\"\"\n",
        "    # ToDo 전처리는 아예 안되어있습니다 ~!\n",
        "    return content.replace('\\n', '')\n",
        "\n",
        "\n",
        "target_list = extract_target()\n",
        "\n",
        "folder_name = 'emotion' + '/' + datetime.datetime.today().date().isoformat() + '_' + datetime.datetime.today().strftime(\"%A\")\n",
        "\n",
        "for item in target_list:\n",
        "    # ToDo .. 조금 더 깔끔하고 로지컬하게.. 부탁드려요 :( ㅎ\n",
        "    download_file(item.get('filepath'), item.get('company'))\n",
        "    parsed = parser.from_file(item.get('company') + \".pdf\")\n",
        "\n",
        "    upload_file_name = item.get('company') + '_result_' + '.txt'\n",
        "    txt = open(upload_file_name, 'w', encoding='utf-8')\n",
        "    # output.txt에 pdf파일 내용을 write\n",
        "    processed = pre_processing(parsed['content'])\n",
        "    print(processed, file=txt)  # ToDo 파일 with.. open 등의 쓰기 처리 방식 변경 확인 필\n",
        "    txt.close()\n",
        "    # txt 확장자 파일로 s3에 업로드 합니다.\n",
        "    s3.meta.client.upload_file(\n",
        "        upload_file_name,\n",
        "        'analysis-target-data',\n",
        "        folder_name + '/' + upload_file_name,\n",
        "        ExtraArgs={\n",
        "            'ACL': 'public-read'\n",
        "        }\n",
        "    )"
      ]
    },
    {
      "cell_type": "code",
      "execution_count": 2,
      "metadata": {
        "colab": {
          "base_uri": "https://localhost:8080/"
        },
        "id": "ltNP3Wdx95Sf",
        "outputId": "74d07cde-c5f9-4959-a44d-5a486dfde31d"
      },
      "outputs": [
        {
          "name": "stdout",
          "output_type": "stream",
          "text": [
            "/content/drive\n",
            "Drive already mounted at /content/drive; to attempt to forcibly remount, call drive.mount(\"/content/drive\", force_remount=True).\n"
          ]
        }
      ],
      "source": [
        "from google.colab import drive # 패키지 불러오기 \n",
        "from os.path import join  \n",
        "\n",
        "ROOT = \"/content/drive\"     # 드라이브 기본 경로\n",
        "print(ROOT)                 # print content of ROOT (Optional)\n",
        "drive.mount(ROOT)           # 드라이브 기본 경로 Mount"
      ]
    },
    {
      "cell_type": "code",
      "execution_count": 3,
      "metadata": {
        "colab": {
          "base_uri": "https://localhost:8080/"
        },
        "id": "Un_9gI8X7xeW",
        "outputId": "9ecb5e7d-4d9b-438b-a12b-70ad43bdd592"
      },
      "outputs": [
        {
          "name": "stdout",
          "output_type": "stream",
          "text": [
            "/content/drive/My Drive/Colab Notebooks/NLP/\n"
          ]
        }
      ],
      "source": [
        "MY_GOOGLE_DRIVE_PATH = 'My Drive/Colab Notebooks/NLP/' # 프로젝트 경로\n",
        "PROJECT_PATH = join(ROOT, MY_GOOGLE_DRIVE_PATH) # 프로젝트 경로\n",
        "print(PROJECT_PATH)"
      ]
    },
    {
      "cell_type": "code",
      "execution_count": 4,
      "metadata": {
        "colab": {
          "base_uri": "https://localhost:8080/"
        },
        "id": "TNRyMN_DDN6I",
        "outputId": "3a7636be-f532-4090-af2e-0efffee65a54"
      },
      "outputs": [
        {
          "name": "stdout",
          "output_type": "stream",
          "text": [
            "/content/drive/My Drive/Colab Notebooks/NLP\n"
          ]
        }
      ],
      "source": [
        "%cd \"{PROJECT_PATH}\""
      ]
    },
    {
      "cell_type": "code",
      "execution_count": 5,
      "metadata": {
        "colab": {
          "base_uri": "https://localhost:8080/",
          "height": 204
        },
        "id": "e1E35GMVDSUA",
        "outputId": "80bc4da8-aa27-440c-c932-0ee7794de799"
      },
      "outputs": [
        {
          "data": {
            "text/html": [
              "<div>\n",
              "<style scoped>\n",
              "    .dataframe tbody tr th:only-of-type {\n",
              "        vertical-align: middle;\n",
              "    }\n",
              "\n",
              "    .dataframe tbody tr th {\n",
              "        vertical-align: top;\n",
              "    }\n",
              "\n",
              "    .dataframe thead th {\n",
              "        text-align: right;\n",
              "    }\n",
              "</style>\n",
              "<table border=\"1\" class=\"dataframe\">\n",
              "  <thead>\n",
              "    <tr style=\"text-align: right;\">\n",
              "      <th></th>\n",
              "      <th>id</th>\n",
              "      <th>sentiment</th>\n",
              "      <th>review</th>\n",
              "    </tr>\n",
              "  </thead>\n",
              "  <tbody>\n",
              "    <tr>\n",
              "      <th>0</th>\n",
              "      <td>\"5814_8\"</td>\n",
              "      <td>1</td>\n",
              "      <td>\"With all this stuff going down at the moment ...</td>\n",
              "    </tr>\n",
              "    <tr>\n",
              "      <th>1</th>\n",
              "      <td>\"2381_9\"</td>\n",
              "      <td>1</td>\n",
              "      <td>\"\\\"The Classic War of the Worlds\\\" by Timothy ...</td>\n",
              "    </tr>\n",
              "    <tr>\n",
              "      <th>2</th>\n",
              "      <td>\"7759_3\"</td>\n",
              "      <td>0</td>\n",
              "      <td>\"The film starts with a manager (Nicholas Bell...</td>\n",
              "    </tr>\n",
              "    <tr>\n",
              "      <th>3</th>\n",
              "      <td>\"3630_4\"</td>\n",
              "      <td>0</td>\n",
              "      <td>\"It must be assumed that those who praised thi...</td>\n",
              "    </tr>\n",
              "    <tr>\n",
              "      <th>4</th>\n",
              "      <td>\"9495_8\"</td>\n",
              "      <td>1</td>\n",
              "      <td>\"Superbly trashy and wondrously unpretentious ...</td>\n",
              "    </tr>\n",
              "  </tbody>\n",
              "</table>\n",
              "</div>"
            ],
            "text/plain": [
              "         id  sentiment                                             review\n",
              "0  \"5814_8\"          1  \"With all this stuff going down at the moment ...\n",
              "1  \"2381_9\"          1  \"\\\"The Classic War of the Worlds\\\" by Timothy ...\n",
              "2  \"7759_3\"          0  \"The film starts with a manager (Nicholas Bell...\n",
              "3  \"3630_4\"          0  \"It must be assumed that those who praised thi...\n",
              "4  \"9495_8\"          1  \"Superbly trashy and wondrously unpretentious ..."
            ]
          },
          "execution_count": 5,
          "metadata": {
            "tags": []
          },
          "output_type": "execute_result"
        }
      ],
      "source": [
        "import pandas as pd\n",
        "review_df = pd.read_csv(\"data/labeledTrainData.tsv\", header = 0, sep=\"\\t\", quoting = 3)\n",
        "review_df.head()\n"
      ]
    },
    {
      "cell_type": "code",
      "execution_count": 6,
      "metadata": {
        "colab": {
          "base_uri": "https://localhost:8080/"
        },
        "id": "a38fa4lZDWdC",
        "outputId": "31b6af1e-d8bc-46fa-fcd5-40b05098b4bf"
      },
      "outputs": [
        {
          "data": {
            "text/plain": [
              "(25000, 3)"
            ]
          },
          "execution_count": 6,
          "metadata": {
            "tags": []
          },
          "output_type": "execute_result"
        }
      ],
      "source": [
        "review_df.shape"
      ]
    },
    {
      "cell_type": "code",
      "execution_count": 7,
      "metadata": {
        "id": "SIB8Rs-jG675"
      },
      "outputs": [],
      "source": [
        "import re\n",
        "\n",
        "# <br> html 태그는 replace 함수를 공백으로 변환\n",
        "review_df['review'] = review_df['review'].str.replace('<br />', ' ')\n",
        "\n",
        "# 파이썬의 정규 표현식 모듈인 re를 이용해 영어 문자열이 아닌 문자는 모두 공백으로 변환 \n",
        "review_df['review'] = review_df['review'].apply(lambda x : re.sub(\"[^a-zA-Z]\", \" \", x))\n",
        "\n",
        "#[^a-zA-Z]의 의미는 영어 대/소문자가 아닌 모든 문자를 찾는 것임"
      ]
    },
    {
      "cell_type": "code",
      "execution_count": 8,
      "metadata": {
        "colab": {
          "base_uri": "https://localhost:8080/"
        },
        "id": "c2RbW19eHZKm",
        "outputId": "9b83f029-8925-4274-fe30-6e3485e4ffd5"
      },
      "outputs": [
        {
          "name": "stdout",
          "output_type": "stream",
          "text": [
            "                                                  review\n",
            "0       With all this stuff going down at the moment ...\n",
            "1         The Classic War of the Worlds   by Timothy ...\n",
            "2       The film starts with a manager  Nicholas Bell...\n",
            "3       It must be assumed that those who praised thi...\n",
            "4       Superbly trashy and wondrously unpretentious ...\n",
            "...                                                  ...\n",
            "24995   It seems like more consideration has gone int...\n",
            "24996   I don t believe they made this film  Complete...\n",
            "24997   Guy is a loser  Can t get girls  needs to bui...\n",
            "24998   This    minute documentary Bu uel made in the...\n",
            "24999   I saw this movie as a child and it broke my h...\n",
            "\n",
            "[25000 rows x 1 columns]\n"
          ]
        },
        {
          "data": {
            "text/plain": [
              "((17500, 1), (7500, 1))"
            ]
          },
          "execution_count": 8,
          "metadata": {
            "tags": []
          },
          "output_type": "execute_result"
        }
      ],
      "source": [
        "from sklearn.model_selection import train_test_split\n",
        "\n",
        "class_Y = review_df['sentiment']\n",
        "feature_X = review_df.drop(['id', 'sentiment'], axis = 1, inplace=False)\n",
        "print(feature_X)\n",
        "\n",
        "X_train, X_test, y_train, y_test = train_test_split(feature_X, class_Y, test_size = 0.3, random_state = 156)\n",
        "\n",
        "X_train.shape, X_test.shape"
      ]
    },
    {
      "cell_type": "code",
      "execution_count": 9,
      "metadata": {
        "id": "1tvBlWQOHc7a"
      },
      "outputs": [],
      "source": [
        "from sklearn.feature_extraction.text import CountVectorizer, TfidfVectorizer\n",
        "from sklearn.pipeline import Pipeline\n",
        "from sklearn.linear_model import LogisticRegression\n",
        "from sklearn.metrics import accuracy_score, roc_auc_score"
      ]
    },
    {
      "cell_type": "code",
      "execution_count": 13,
      "metadata": {
        "colab": {
          "base_uri": "https://localhost:8080/"
        },
        "id": "O0jlSvJMLhAW",
        "outputId": "57527667-1131-4d35-843f-4e9e341f7bae"
      },
      "outputs": [
        {
          "name": "stderr",
          "output_type": "stream",
          "text": [
            "/usr/local/lib/python3.7/dist-packages/sklearn/linear_model/_logistic.py:940: ConvergenceWarning: lbfgs failed to converge (status=1):\n",
            "STOP: TOTAL NO. of ITERATIONS REACHED LIMIT.\n",
            "\n",
            "Increase the number of iterations (max_iter) or scale the data as shown in:\n",
            "    https://scikit-learn.org/stable/modules/preprocessing.html\n",
            "Please also refer to the documentation for alternative solver options:\n",
            "    https://scikit-learn.org/stable/modules/linear_model.html#logistic-regression\n",
            "  extra_warning_msg=_LOGISTIC_SOLVER_CONVERGENCE_MSG)\n"
          ]
        },
        {
          "name": "stdout",
          "output_type": "stream",
          "text": [
            "예측 정확도는 0.8860, ROC-AUC는 0.9503\n"
          ]
        }
      ],
      "source": [
        "# 스톱 워드는 English, Filtering, Ngram은 (1, 2)로 설정하여 CountVectorization 수행\n",
        "# LogisticRegression의 C는 10으로 설정\n",
        "pipeline = Pipeline([\n",
        "                     ('cnt_vect', CountVectorizer(stop_words = 'english', ngram_range=(1, 2))), \n",
        "                     ('lr_clf', LogisticRegression(C=10))])\n",
        "\n",
        "# Pipeline 객체를 이용해 fit(), predict()로 학습/예측 수행, predict_proba()는 roc_auc 때문에 수행. \n",
        "pipeline.fit(X_train['review'], y_train)\n",
        "pred = pipeline.predict(X_test['review'])\n",
        "pred_probs = pipeline.predict_proba(X_test['review'])[:, 1]\n",
        "\n",
        "print('예측 정확도는 {0:.4f}, ROC-AUC는 {1:.4f}'.format(accuracy_score(y_test, pred), roc_auc_score(y_test, pred_probs)))"
      ]
    },
    {
      "cell_type": "code",
      "execution_count": 11,
      "metadata": {
        "id": "-ZNlggciKhJW"
      },
      "outputs": [],
      "source": [
        "from xgboost import XGBClassifier\n",
        "\n",
        "pipeline1 = Pipeline([\n",
        "                     ('cnt_vect', CountVectorizer(stop_words = 'english', ngram_range=(1, 2))), \n",
        "                     ('lr_clf', XGBClassifier())])\n",
        "\n",
        "# Pipeline 객체를 이용해 fit(),\n",
        "# predict()로 학습/예측 수행, \n",
        "# predict_proba()는 roc_auc 때문에 수행. \n",
        "pipeline1.fit(X_train['review'], y_train)\n",
        "pred = pipeline1.predict(X_test['review'])"
      ]
    },
    {
      "cell_type": "code",
      "execution_count": 12,
      "metadata": {
        "colab": {
          "base_uri": "https://localhost:8080/"
        },
        "id": "QOUkPUFAMSS0",
        "outputId": "7c26532a-4d6f-44fa-ccba-84b063793ea8"
      },
      "outputs": [
        {
          "name": "stdout",
          "output_type": "stream",
          "text": [
            "검증 정확도:  0.8088\n",
            "              precision    recall  f1-score   support\n",
            "\n",
            "           0       0.75      0.84      0.79      3264\n",
            "           1       0.87      0.78      0.82      4236\n",
            "\n",
            "    accuracy                           0.81      7500\n",
            "   macro avg       0.81      0.81      0.81      7500\n",
            "weighted avg       0.82      0.81      0.81      7500\n",
            "\n"
          ]
        }
      ],
      "source": [
        "from sklearn.metrics import accuracy_score\n",
        "print('검증 정확도: ', accuracy_score(y_test, pred))\n",
        "from sklearn.metrics import classification_report\n",
        "\n",
        "print(classification_report(pred, y_test))"
      ]
    },
    {
      "cell_type": "code",
      "execution_count": 17,
      "metadata": {
        "colab": {
          "base_uri": "https://localhost:8080/"
        },
        "id": "piQbFhz2NR7H",
        "outputId": "748a6389-137a-4057-a1da-c7d98538e32e"
      },
      "outputs": [
        {
          "name": "stdout",
          "output_type": "stream",
          "text": [
            "Collecting eli5\n",
            "\u001b[?25l  Downloading https://files.pythonhosted.org/packages/d1/54/04cab6e1c0ae535bec93f795d8403fdf6caf66fa5a6512263202dbb14ea6/eli5-0.11.0-py2.py3-none-any.whl (106kB)\n",
            "\r\u001b[K     |███                             | 10kB 13.4MB/s eta 0:00:01\r\u001b[K     |██████▏                         | 20kB 19.1MB/s eta 0:00:01\r\u001b[K     |█████████▎                      | 30kB 23.6MB/s eta 0:00:01\r\u001b[K     |████████████▍                   | 40kB 21.1MB/s eta 0:00:01\r\u001b[K     |███████████████▌                | 51kB 18.7MB/s eta 0:00:01\r\u001b[K     |██████████████████▌             | 61kB 20.9MB/s eta 0:00:01\r\u001b[K     |█████████████████████▋          | 71kB 10.7MB/s eta 0:00:01\r\u001b[K     |████████████████████████▊       | 81kB 11.2MB/s eta 0:00:01\r\u001b[K     |███████████████████████████▉    | 92kB 11.4MB/s eta 0:00:01\r\u001b[K     |███████████████████████████████ | 102kB 11.5MB/s eta 0:00:01\r\u001b[K     |████████████████████████████████| 112kB 11.5MB/s \n",
            "\u001b[?25hRequirement already satisfied: numpy>=1.9.0 in /usr/local/lib/python3.7/dist-packages (from eli5) (1.19.5)\n",
            "Requirement already satisfied: scikit-learn>=0.20 in /usr/local/lib/python3.7/dist-packages (from eli5) (0.22.2.post1)\n",
            "Requirement already satisfied: jinja2 in /usr/local/lib/python3.7/dist-packages (from eli5) (2.11.3)\n",
            "Requirement already satisfied: graphviz in /usr/local/lib/python3.7/dist-packages (from eli5) (0.10.1)\n",
            "Requirement already satisfied: tabulate>=0.7.7 in /usr/local/lib/python3.7/dist-packages (from eli5) (0.8.9)\n",
            "Requirement already satisfied: six in /usr/local/lib/python3.7/dist-packages (from eli5) (1.15.0)\n",
            "Requirement already satisfied: scipy in /usr/local/lib/python3.7/dist-packages (from eli5) (1.4.1)\n",
            "Requirement already satisfied: attrs>16.0.0 in /usr/local/lib/python3.7/dist-packages (from eli5) (20.3.0)\n",
            "Requirement already satisfied: joblib>=0.11 in /usr/local/lib/python3.7/dist-packages (from scikit-learn>=0.20->eli5) (1.0.1)\n",
            "Requirement already satisfied: MarkupSafe>=0.23 in /usr/local/lib/python3.7/dist-packages (from jinja2->eli5) (1.1.1)\n",
            "Installing collected packages: eli5\n",
            "Successfully installed eli5-0.11.0\n"
          ]
        }
      ],
      "source": [
        "!pip install eli5"
      ]
    },
    {
      "cell_type": "code",
      "execution_count": 18,
      "metadata": {
        "id": "TrU79UOPOKaw"
      },
      "outputs": [],
      "source": [
        "import warnings\n",
        "warnings.simplefilter(action='ignore', category=FutureWarning)\n",
        "\n",
        "import eli5\n",
        "from eli5.sklearn import PermutationImportance"
      ]
    },
    {
      "cell_type": "code",
      "execution_count": 20,
      "metadata": {
        "id": "7o75uluzOoUS"
      },
      "outputs": [],
      "source": [
        "import matplotlib.pyplot as plt\n",
        "plt.rcParams['figure.dpi'] = 144"
      ]
    },
    {
      "cell_type": "code",
      "execution_count": null,
      "metadata": {
        "id": "yBl-L8nJOt89"
      },
      "outputs": [],
      "source": []
    }
  ],
  "metadata": {
    "colab": {
      "collapsed_sections": [],
      "name": "Untitled9.ipynb",
      "provenance": []
    },
    "kernelspec": {
      "display_name": "Python 3",
      "name": "python3"
    }
  },
  "nbformat": 4,
  "nbformat_minor": 0
}
