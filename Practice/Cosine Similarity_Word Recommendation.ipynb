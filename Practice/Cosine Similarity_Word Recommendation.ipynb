{
  "nbformat": 4,
  "nbformat_minor": 0,
  "metadata": {
    "colab": {
      "name": "Untitled16.ipynb",
      "provenance": [],
      "collapsed_sections": []
    },
    "kernelspec": {
      "name": "python3",
      "display_name": "Python 3"
    },
    "language_info": {
      "name": "python"
    }
  },
  "cells": [
    {
      "cell_type": "code",
      "metadata": {
        "id": "9vfs0O_5H0iU"
      },
      "source": [
        "from bs4 import BeautifulSoup  \n",
        "import pandas as pd\n",
        "from tqdm import tqdm_notebook\n",
        "import nltk\n",
        "import re\n",
        "from urllib.request import urlopen"
      ],
      "execution_count": 2,
      "outputs": []
    },
    {
      "cell_type": "code",
      "metadata": {
        "id": "aB_b4UgCH32A"
      },
      "source": [
        "#크롤링코드작성"
      ],
      "execution_count": 1,
      "outputs": []
    },
    {
      "cell_type": "code",
      "metadata": {
        "colab": {
          "base_uri": "https://localhost:8080/",
          "height": 1000
        },
        "id": "2QDxGA8CH5ee",
        "outputId": "6f7bfd6a-6b4a-4b76-c54a-3a0e7672061c"
      },
      "source": [
        "!pip install konlpy\n",
        "!pip install mat"
      ],
      "execution_count": 4,
      "outputs": [
        {
          "output_type": "stream",
          "text": [
            "Collecting konlpy\n",
            "\u001b[?25l  Downloading https://files.pythonhosted.org/packages/85/0e/f385566fec837c0b83f216b2da65db9997b35dd675e107752005b7d392b1/konlpy-0.5.2-py2.py3-none-any.whl (19.4MB)\n",
            "\u001b[K     |████████████████████████████████| 19.4MB 1.2MB/s \n",
            "\u001b[?25hCollecting colorama\n",
            "  Downloading https://files.pythonhosted.org/packages/44/98/5b86278fbbf250d239ae0ecb724f8572af1c91f4a11edf4d36a206189440/colorama-0.4.4-py2.py3-none-any.whl\n",
            "Requirement already satisfied: numpy>=1.6 in /usr/local/lib/python3.7/dist-packages (from konlpy) (1.19.5)\n",
            "Collecting beautifulsoup4==4.6.0\n",
            "\u001b[?25l  Downloading https://files.pythonhosted.org/packages/9e/d4/10f46e5cfac773e22707237bfcd51bbffeaf0a576b0a847ec7ab15bd7ace/beautifulsoup4-4.6.0-py3-none-any.whl (86kB)\n",
            "\u001b[K     |████████████████████████████████| 92kB 8.2MB/s \n",
            "\u001b[?25hCollecting JPype1>=0.7.0\n",
            "\u001b[?25l  Downloading https://files.pythonhosted.org/packages/cd/a5/9781e2ef4ca92d09912c4794642c1653aea7607f473e156cf4d423a881a1/JPype1-1.2.1-cp37-cp37m-manylinux2010_x86_64.whl (457kB)\n",
            "\u001b[K     |████████████████████████████████| 460kB 39.3MB/s \n",
            "\u001b[?25hRequirement already satisfied: tweepy>=3.7.0 in /usr/local/lib/python3.7/dist-packages (from konlpy) (3.10.0)\n",
            "Requirement already satisfied: lxml>=4.1.0 in /usr/local/lib/python3.7/dist-packages (from konlpy) (4.2.6)\n",
            "Requirement already satisfied: typing-extensions; python_version < \"3.8\" in /usr/local/lib/python3.7/dist-packages (from JPype1>=0.7.0->konlpy) (3.7.4.3)\n",
            "Requirement already satisfied: six>=1.10.0 in /usr/local/lib/python3.7/dist-packages (from tweepy>=3.7.0->konlpy) (1.15.0)\n",
            "Requirement already satisfied: requests-oauthlib>=0.7.0 in /usr/local/lib/python3.7/dist-packages (from tweepy>=3.7.0->konlpy) (1.3.0)\n",
            "Requirement already satisfied: requests[socks]>=2.11.1 in /usr/local/lib/python3.7/dist-packages (from tweepy>=3.7.0->konlpy) (2.23.0)\n",
            "Requirement already satisfied: oauthlib>=3.0.0 in /usr/local/lib/python3.7/dist-packages (from requests-oauthlib>=0.7.0->tweepy>=3.7.0->konlpy) (3.1.0)\n",
            "Requirement already satisfied: urllib3!=1.25.0,!=1.25.1,<1.26,>=1.21.1 in /usr/local/lib/python3.7/dist-packages (from requests[socks]>=2.11.1->tweepy>=3.7.0->konlpy) (1.24.3)\n",
            "Requirement already satisfied: certifi>=2017.4.17 in /usr/local/lib/python3.7/dist-packages (from requests[socks]>=2.11.1->tweepy>=3.7.0->konlpy) (2020.12.5)\n",
            "Requirement already satisfied: idna<3,>=2.5 in /usr/local/lib/python3.7/dist-packages (from requests[socks]>=2.11.1->tweepy>=3.7.0->konlpy) (2.10)\n",
            "Requirement already satisfied: chardet<4,>=3.0.2 in /usr/local/lib/python3.7/dist-packages (from requests[socks]>=2.11.1->tweepy>=3.7.0->konlpy) (3.0.4)\n",
            "Requirement already satisfied: PySocks!=1.5.7,>=1.5.6; extra == \"socks\" in /usr/local/lib/python3.7/dist-packages (from requests[socks]>=2.11.1->tweepy>=3.7.0->konlpy) (1.7.1)\n",
            "Installing collected packages: colorama, beautifulsoup4, JPype1, konlpy\n",
            "  Found existing installation: beautifulsoup4 4.6.3\n",
            "    Uninstalling beautifulsoup4-4.6.3:\n",
            "      Successfully uninstalled beautifulsoup4-4.6.3\n",
            "Successfully installed JPype1-1.2.1 beautifulsoup4-4.6.0 colorama-0.4.4 konlpy-0.5.2\n"
          ],
          "name": "stdout"
        },
        {
          "output_type": "display_data",
          "data": {
            "application/vnd.colab-display-data+json": {
              "pip_warning": {
                "packages": [
                  "bs4"
                ]
              }
            }
          },
          "metadata": {
            "tags": []
          }
        },
        {
          "output_type": "stream",
          "text": [
            "Collecting mat\n",
            "  Downloading https://files.pythonhosted.org/packages/c8/72/6b57ee4b1c947d0d3ce29cb1e0c8e3bc66698ba1b1a0ba342a58d9492fdb/mat-1.0.2.tar.gz\n",
            "Collecting mysql-connector-python>=8.0.20\n",
            "\u001b[?25l  Downloading https://files.pythonhosted.org/packages/de/f7/b783b60a3bd8aea348990c60fb0b3ed2f843c6f40ad29e37a89a5d50d7a3/mysql_connector_python-8.0.23-cp37-cp37m-manylinux1_x86_64.whl (18.0MB)\n",
            "\u001b[K     |████████████████████████████████| 18.1MB 1.6MB/s \n",
            "\u001b[?25hCollecting PyYAML>=5.3.1\n",
            "\u001b[?25l  Downloading https://files.pythonhosted.org/packages/7a/a5/393c087efdc78091afa2af9f1378762f9821c9c1d7a22c5753fb5ac5f97a/PyYAML-5.4.1-cp37-cp37m-manylinux1_x86_64.whl (636kB)\n",
            "\u001b[K     |████████████████████████████████| 645kB 43.4MB/s \n",
            "\u001b[?25hRequirement already satisfied: tabulate>=0.8.7 in /usr/local/lib/python3.7/dist-packages (from mat) (0.8.9)\n",
            "Requirement already satisfied: protobuf>=3.0.0 in /usr/local/lib/python3.7/dist-packages (from mysql-connector-python>=8.0.20->mat) (3.12.4)\n",
            "Requirement already satisfied: six>=1.9 in /usr/local/lib/python3.7/dist-packages (from protobuf>=3.0.0->mysql-connector-python>=8.0.20->mat) (1.15.0)\n",
            "Requirement already satisfied: setuptools in /usr/local/lib/python3.7/dist-packages (from protobuf>=3.0.0->mysql-connector-python>=8.0.20->mat) (54.2.0)\n",
            "Building wheels for collected packages: mat\n",
            "  Building wheel for mat (setup.py) ... \u001b[?25l\u001b[?25hdone\n",
            "  Created wheel for mat: filename=mat-1.0.2-cp37-none-any.whl size=11700 sha256=233a055c42dea4fa0fb65b59ffab71929763d01a7dc019f5167fc81e11895edd\n",
            "  Stored in directory: /root/.cache/pip/wheels/36/c5/83/552de5e585311c22c525dee7e3c2ae10e12ad6d0d9570dfb02\n",
            "Successfully built mat\n",
            "Installing collected packages: mysql-connector-python, PyYAML, mat\n",
            "  Found existing installation: PyYAML 3.13\n",
            "    Uninstalling PyYAML-3.13:\n",
            "      Successfully uninstalled PyYAML-3.13\n",
            "Successfully installed PyYAML-5.4.1 mat-1.0.2 mysql-connector-python-8.0.23\n"
          ],
          "name": "stdout"
        }
      ]
    },
    {
      "cell_type": "code",
      "metadata": {
        "id": "4jhwYkmGIMvm"
      },
      "source": [
        "from sklearn.feature_extraction.text import TfidfVectorizer \n",
        "from sklearn.metrics.pairwise import linear_kernel\n",
        "from konlpy.tag import Mecab\n",
        "import pandas as pd\n",
        "import tensorflow as tf\n",
        "import os\n",
        "import getpass\n",
        "import numpy as np\n",
        "from numpy import dot\n",
        "from numpy.linalg import norm\n",
        "import mat \n",
        "\n",
        "#dataframe에 null값이 있는 경우 공백을 넣어 null값 제거 \n",
        "def avoid_null(data, header):\n",
        "  data[header] = data[header].fillna('') \n",
        "  return data[header]"
      ],
      "execution_count": null,
      "outputs": []
    },
    {
      "cell_type": "code",
      "metadata": {
        "colab": {
          "base_uri": "https://localhost:8080/"
        },
        "id": "UequDN_LIWuD",
        "outputId": "93458874-28bb-4a88-a7fa-930858433ec6"
      },
      "source": [
        "from google.colab import drive\n",
        "drive.mount('/content/drive')"
      ],
      "execution_count": 5,
      "outputs": [
        {
          "output_type": "stream",
          "text": [
            "Mounted at /content/drive\n"
          ],
          "name": "stdout"
        }
      ]
    },
    {
      "cell_type": "code",
      "metadata": {
        "colab": {
          "base_uri": "https://localhost:8080/",
          "height": 406
        },
        "id": "VyosQ2mmIY0O",
        "outputId": "9f2a4900-7bfa-494e-a697-f38fc32ea017"
      },
      "source": [
        "df = pd.read_csv('/content/drive/MyDrive/data/financial_word.CSV', encoding='cp949')\n",
        "df"
      ],
      "execution_count": 6,
      "outputs": [
        {
          "output_type": "execute_result",
          "data": {
            "text/html": [
              "<div>\n",
              "<style scoped>\n",
              "    .dataframe tbody tr th:only-of-type {\n",
              "        vertical-align: middle;\n",
              "    }\n",
              "\n",
              "    .dataframe tbody tr th {\n",
              "        vertical-align: top;\n",
              "    }\n",
              "\n",
              "    .dataframe thead th {\n",
              "        text-align: right;\n",
              "    }\n",
              "</style>\n",
              "<table border=\"1\" class=\"dataframe\">\n",
              "  <thead>\n",
              "    <tr style=\"text-align: right;\">\n",
              "      <th></th>\n",
              "      <th>id</th>\n",
              "      <th>word</th>\n",
              "      <th>text</th>\n",
              "    </tr>\n",
              "  </thead>\n",
              "  <tbody>\n",
              "    <tr>\n",
              "      <th>0</th>\n",
              "      <td>1</td>\n",
              "      <td>우대금리</td>\n",
              "      <td>우대금리란 그야 말로 하늘이 갈라지고, 천지가 지랄을 해도 절대로 돈을 띵가묵지 않...</td>\n",
              "    </tr>\n",
              "    <tr>\n",
              "      <th>1</th>\n",
              "      <td>2</td>\n",
              "      <td>경제</td>\n",
              "      <td>경제는 경세제민을 줄인 말입니다. 세상을 경영해 백성을 부유하게 한다는 뜻이죠. 쉽...</td>\n",
              "    </tr>\n",
              "    <tr>\n",
              "      <th>2</th>\n",
              "      <td>3</td>\n",
              "      <td>경기</td>\n",
              "      <td>총체적인 경제의 활동기운</td>\n",
              "    </tr>\n",
              "    <tr>\n",
              "      <th>3</th>\n",
              "      <td>4</td>\n",
              "      <td>수출경기</td>\n",
              "      <td>수출과 관련된 경제의 활동기운'을 줄인말</td>\n",
              "    </tr>\n",
              "    <tr>\n",
              "      <th>4</th>\n",
              "      <td>5</td>\n",
              "      <td>내수경기</td>\n",
              "      <td>?'국내수요와 관련된 경제의 활동기운'을 줄인말.</td>\n",
              "    </tr>\n",
              "    <tr>\n",
              "      <th>...</th>\n",
              "      <td>...</td>\n",
              "      <td>...</td>\n",
              "      <td>...</td>\n",
              "    </tr>\n",
              "    <tr>\n",
              "      <th>63</th>\n",
              "      <td>64</td>\n",
              "      <td>선물</td>\n",
              "      <td>미리 계약하는 것. 예)2200년에 석유 한방울을 1달러에 사고 팔기로 해요.</td>\n",
              "    </tr>\n",
              "    <tr>\n",
              "      <th>64</th>\n",
              "      <td>65</td>\n",
              "      <td>선물환</td>\n",
              "      <td>미리 외국돈을 사고팔기로 계약하는 것. 예)2200년에 1달러를 100원에 사고 팔...</td>\n",
              "    </tr>\n",
              "    <tr>\n",
              "      <th>65</th>\n",
              "      <td>66</td>\n",
              "      <td>옵션</td>\n",
              "      <td>마음대로 거래할수 있는 권리</td>\n",
              "    </tr>\n",
              "    <tr>\n",
              "      <th>66</th>\n",
              "      <td>67</td>\n",
              "      <td>콜옵션</td>\n",
              "      <td>사고 싶으면 사고, 사기 싫으면 안 살거야 살수있는 권리</td>\n",
              "    </tr>\n",
              "    <tr>\n",
              "      <th>67</th>\n",
              "      <td>68</td>\n",
              "      <td>풋옵션</td>\n",
              "      <td>팔 수 있는 권리  팔고 싶으면 팔고, 팔기 싫으면 안 팔거야</td>\n",
              "    </tr>\n",
              "  </tbody>\n",
              "</table>\n",
              "<p>68 rows × 3 columns</p>\n",
              "</div>"
            ],
            "text/plain": [
              "    id  word                                               text\n",
              "0    1  우대금리  우대금리란 그야 말로 하늘이 갈라지고, 천지가 지랄을 해도 절대로 돈을 띵가묵지 않...\n",
              "1    2    경제  경제는 경세제민을 줄인 말입니다. 세상을 경영해 백성을 부유하게 한다는 뜻이죠. 쉽...\n",
              "2    3    경기                                      총체적인 경제의 활동기운\n",
              "3    4  수출경기                             수출과 관련된 경제의 활동기운'을 줄인말\n",
              "4    5  내수경기                        ?'국내수요와 관련된 경제의 활동기운'을 줄인말.\n",
              "..  ..   ...                                                ...\n",
              "63  64    선물        미리 계약하는 것. 예)2200년에 석유 한방울을 1달러에 사고 팔기로 해요.\n",
              "64  65   선물환  미리 외국돈을 사고팔기로 계약하는 것. 예)2200년에 1달러를 100원에 사고 팔...\n",
              "65  66    옵션                                    마음대로 거래할수 있는 권리\n",
              "66  67   콜옵션                    사고 싶으면 사고, 사기 싫으면 안 살거야 살수있는 권리\n",
              "67  68   풋옵션                 팔 수 있는 권리  팔고 싶으면 팔고, 팔기 싫으면 안 팔거야\n",
              "\n",
              "[68 rows x 3 columns]"
            ]
          },
          "metadata": {
            "tags": []
          },
          "execution_count": 6
        }
      ]
    },
    {
      "cell_type": "code",
      "metadata": {
        "id": "mpqzSizAIeN1"
      },
      "source": [
        "import re\n",
        "\n",
        "#한글, 숫자, 영어 빼고 전부 제거 (정규화처리)\n",
        "def sub_special(s):\n",
        "  return re.sub(r'[^ㄱ-ㅎㅏ-ㅣ가-힣0-9a-zA-Z ]','',s)"
      ],
      "execution_count": 7,
      "outputs": []
    },
    {
      "cell_type": "code",
      "metadata": {
        "id": "ePINgnZ9IjNs"
      },
      "source": [
        "df.loc[:,\"text\"] = df.loc[:,\"text\"].apply(sub_special)"
      ],
      "execution_count": 8,
      "outputs": []
    },
    {
      "cell_type": "code",
      "metadata": {
        "colab": {
          "base_uri": "https://localhost:8080/",
          "height": 406
        },
        "id": "1aYBWXFtIrHE",
        "outputId": "d33b559d-06b0-4ea9-f92f-74ab917a94ad"
      },
      "source": [
        "df #확인 완료 "
      ],
      "execution_count": 9,
      "outputs": [
        {
          "output_type": "execute_result",
          "data": {
            "text/html": [
              "<div>\n",
              "<style scoped>\n",
              "    .dataframe tbody tr th:only-of-type {\n",
              "        vertical-align: middle;\n",
              "    }\n",
              "\n",
              "    .dataframe tbody tr th {\n",
              "        vertical-align: top;\n",
              "    }\n",
              "\n",
              "    .dataframe thead th {\n",
              "        text-align: right;\n",
              "    }\n",
              "</style>\n",
              "<table border=\"1\" class=\"dataframe\">\n",
              "  <thead>\n",
              "    <tr style=\"text-align: right;\">\n",
              "      <th></th>\n",
              "      <th>id</th>\n",
              "      <th>word</th>\n",
              "      <th>text</th>\n",
              "    </tr>\n",
              "  </thead>\n",
              "  <tbody>\n",
              "    <tr>\n",
              "      <th>0</th>\n",
              "      <td>1</td>\n",
              "      <td>우대금리</td>\n",
              "      <td>우대금리란 그야 말로 하늘이 갈라지고 천지가 지랄을 해도 절대로 돈을 띵가묵지 않을...</td>\n",
              "    </tr>\n",
              "    <tr>\n",
              "      <th>1</th>\n",
              "      <td>2</td>\n",
              "      <td>경제</td>\n",
              "      <td>경제는 경세제민을 줄인 말입니다 세상을 경영해 백성을 부유하게 한다는 뜻이죠 쉽게 ...</td>\n",
              "    </tr>\n",
              "    <tr>\n",
              "      <th>2</th>\n",
              "      <td>3</td>\n",
              "      <td>경기</td>\n",
              "      <td>총체적인 경제의 활동기운</td>\n",
              "    </tr>\n",
              "    <tr>\n",
              "      <th>3</th>\n",
              "      <td>4</td>\n",
              "      <td>수출경기</td>\n",
              "      <td>수출과 관련된 경제의 활동기운을 줄인말</td>\n",
              "    </tr>\n",
              "    <tr>\n",
              "      <th>4</th>\n",
              "      <td>5</td>\n",
              "      <td>내수경기</td>\n",
              "      <td>국내수요와 관련된 경제의 활동기운을 줄인말</td>\n",
              "    </tr>\n",
              "    <tr>\n",
              "      <th>...</th>\n",
              "      <td>...</td>\n",
              "      <td>...</td>\n",
              "      <td>...</td>\n",
              "    </tr>\n",
              "    <tr>\n",
              "      <th>63</th>\n",
              "      <td>64</td>\n",
              "      <td>선물</td>\n",
              "      <td>미리 계약하는 것 예2200년에 석유 한방울을 1달러에 사고 팔기로 해요</td>\n",
              "    </tr>\n",
              "    <tr>\n",
              "      <th>64</th>\n",
              "      <td>65</td>\n",
              "      <td>선물환</td>\n",
              "      <td>미리 외국돈을 사고팔기로 계약하는 것 예2200년에 1달러를 100원에 사고 팔기로 해요</td>\n",
              "    </tr>\n",
              "    <tr>\n",
              "      <th>65</th>\n",
              "      <td>66</td>\n",
              "      <td>옵션</td>\n",
              "      <td>마음대로 거래할수 있는 권리</td>\n",
              "    </tr>\n",
              "    <tr>\n",
              "      <th>66</th>\n",
              "      <td>67</td>\n",
              "      <td>콜옵션</td>\n",
              "      <td>사고 싶으면 사고 사기 싫으면 안 살거야 살수있는 권리</td>\n",
              "    </tr>\n",
              "    <tr>\n",
              "      <th>67</th>\n",
              "      <td>68</td>\n",
              "      <td>풋옵션</td>\n",
              "      <td>팔 수 있는 권리  팔고 싶으면 팔고 팔기 싫으면 안 팔거야</td>\n",
              "    </tr>\n",
              "  </tbody>\n",
              "</table>\n",
              "<p>68 rows × 3 columns</p>\n",
              "</div>"
            ],
            "text/plain": [
              "    id  word                                               text\n",
              "0    1  우대금리  우대금리란 그야 말로 하늘이 갈라지고 천지가 지랄을 해도 절대로 돈을 띵가묵지 않을...\n",
              "1    2    경제  경제는 경세제민을 줄인 말입니다 세상을 경영해 백성을 부유하게 한다는 뜻이죠 쉽게 ...\n",
              "2    3    경기                                      총체적인 경제의 활동기운\n",
              "3    4  수출경기                              수출과 관련된 경제의 활동기운을 줄인말\n",
              "4    5  내수경기                            국내수요와 관련된 경제의 활동기운을 줄인말\n",
              "..  ..   ...                                                ...\n",
              "63  64    선물           미리 계약하는 것 예2200년에 석유 한방울을 1달러에 사고 팔기로 해요\n",
              "64  65   선물환  미리 외국돈을 사고팔기로 계약하는 것 예2200년에 1달러를 100원에 사고 팔기로 해요\n",
              "65  66    옵션                                    마음대로 거래할수 있는 권리\n",
              "66  67   콜옵션                     사고 싶으면 사고 사기 싫으면 안 살거야 살수있는 권리\n",
              "67  68   풋옵션                  팔 수 있는 권리  팔고 싶으면 팔고 팔기 싫으면 안 팔거야\n",
              "\n",
              "[68 rows x 3 columns]"
            ]
          },
          "metadata": {
            "tags": []
          },
          "execution_count": 9
        }
      ]
    },
    {
      "cell_type": "code",
      "metadata": {
        "id": "PlStFwZ4Ir2V"
      },
      "source": [
        "duplicate = df[df.duplicated(['word'])]\n",
        "df = df.drop_duplicates(['word'], keep = 'first')\n",
        "\n",
        "#중복자료제거 "
      ],
      "execution_count": 10,
      "outputs": []
    },
    {
      "cell_type": "code",
      "metadata": {
        "colab": {
          "base_uri": "https://localhost:8080/",
          "height": 34
        },
        "id": "qavy3bVZI57t",
        "outputId": "3fbb0532-bc19-4767-a8dd-7a86ce73a37b"
      },
      "source": [
        "# 전체를 합치기\n",
        "df['all']=df['word'] + df['text']\n",
        "df['all'][0]"
      ],
      "execution_count": 11,
      "outputs": [
        {
          "output_type": "execute_result",
          "data": {
            "application/vnd.google.colaboratory.intrinsic+json": {
              "type": "string"
            },
            "text/plain": [
              "'우대금리우대금리란 그야 말로 하늘이 갈라지고 천지가 지랄을 해도 절대로 돈을 띵가묵지 않을 기업에게 빌려줄 때 적용하는 금리입니다'"
            ]
          },
          "metadata": {
            "tags": []
          },
          "execution_count": 11
        }
      ]
    },
    {
      "cell_type": "code",
      "metadata": {
        "id": "iSB-FFJuJA_N"
      },
      "source": [
        "from sklearn.feature_extraction.text import TfidfVectorizer\n",
        "tfidf = TfidfVectorizer()\n",
        "df['all'] = df['all'].fillna('')"
      ],
      "execution_count": 13,
      "outputs": []
    },
    {
      "cell_type": "code",
      "metadata": {
        "colab": {
          "base_uri": "https://localhost:8080/"
        },
        "id": "oe_EOwx7JVZ8",
        "outputId": "e5b4e075-3589-46e7-a1d6-0d0150b413ed"
      },
      "source": [
        "tfidf_matrix = tfidf.fit_transform(df['all'])\n",
        "# overview에 대해서 tf-idf 수행\n",
        "print(tfidf_matrix.shape)"
      ],
      "execution_count": 14,
      "outputs": [
        {
          "output_type": "stream",
          "text": [
            "(68, 304)\n"
          ],
          "name": "stdout"
        }
      ]
    },
    {
      "cell_type": "code",
      "metadata": {
        "colab": {
          "base_uri": "https://localhost:8080/"
        },
        "id": "eqqXNJA-JgZl",
        "outputId": "a8a72d87-4e64-4c05-d316-d463315ccea3"
      },
      "source": [
        "tfidf_matrix"
      ],
      "execution_count": 15,
      "outputs": [
        {
          "output_type": "execute_result",
          "data": {
            "text/plain": [
              "<68x304 sparse matrix of type '<class 'numpy.float64'>'\n",
              "\twith 397 stored elements in Compressed Sparse Row format>"
            ]
          },
          "metadata": {
            "tags": []
          },
          "execution_count": 15
        }
      ]
    },
    {
      "cell_type": "code",
      "metadata": {
        "id": "KUYoBbd3JjVN"
      },
      "source": [
        "from sklearn.metrics.pairwise import linear_kernel\n",
        "cosine_sim = linear_kernel(tfidf_matrix, tfidf_matrix)"
      ],
      "execution_count": 16,
      "outputs": []
    },
    {
      "cell_type": "code",
      "metadata": {
        "colab": {
          "base_uri": "https://localhost:8080/"
        },
        "id": "-nvcPzWDJmAU",
        "outputId": "63c46a48-66b0-42c2-c320-0fcefc756241"
      },
      "source": [
        "indices = pd.Series(df.index, index=df['word']).drop_duplicates()\n",
        "print(indices.head())"
      ],
      "execution_count": 18,
      "outputs": [
        {
          "output_type": "stream",
          "text": [
            "word\n",
            "우대금리    0\n",
            "경제      1\n",
            "경기      2\n",
            "수출경기    3\n",
            "내수경기    4\n",
            "dtype: int64\n"
          ],
          "name": "stdout"
        }
      ]
    },
    {
      "cell_type": "code",
      "metadata": {
        "id": "FQDIsgcWJqwF"
      },
      "source": [
        "def get_recomm(title, cosine_sim=cosine_sim):\n",
        "    choice = []\n",
        "    idx = indices[title]\n",
        "\n",
        "    # 코사인 유사도\n",
        "    sim_scores = list(enumerate(cosine_sim[idx]))\n",
        "\n",
        "    # 유사도에 따라 정렬\n",
        "    sim_scores = sorted(sim_scores, key=lambda x: x[1], reverse=True)\n",
        "\n",
        "    # 가장 유사한 5개의 단어 조회\n",
        "    sim_scores = sim_scores[1:6] \n",
        "    # 0부터 하면 본인 (단어)이 나와버림 ;; \n",
        "\n",
        "    # 가장 유사한 5개의 영화 인덱스 조회 \n",
        "    word_indices = [i[0] for i in sim_scores]\n",
        "    \n",
        "    for i in range(5):\n",
        "        choice.append(df['word'][word_indices[i]])\n",
        "        #인덱스로 리턴해서 추가 \n",
        "  \n",
        "    # 가장 유사한 5개의 단어 출력\n",
        "    print('***단어 추천 순위***')\n",
        "    for i in range(5):\n",
        "        print(str(i+1) + '순위 : ' + choice[i])"
      ],
      "execution_count": 25,
      "outputs": []
    },
    {
      "cell_type": "code",
      "metadata": {
        "colab": {
          "base_uri": "https://localhost:8080/"
        },
        "id": "HvLvs6IkKYQD",
        "outputId": "b3b2497b-d8a6-458d-dc18-3bfe8d81ccb6"
      },
      "source": [
        "get_recomm('옵션')"
      ],
      "execution_count": 26,
      "outputs": [
        {
          "output_type": "stream",
          "text": [
            "***단어 추천 순위***\n",
            "1순위 : 풋옵션\n",
            "2순위 : 통화\n",
            "3순위 : 콜옵션\n",
            "4순위 : 유가증권\n",
            "5순위 : 외환\n"
          ],
          "name": "stdout"
        }
      ]
    },
    {
      "cell_type": "code",
      "metadata": {
        "colab": {
          "base_uri": "https://localhost:8080/"
        },
        "id": "gKb73bLdKFHl",
        "outputId": "61f5b98b-55c2-48af-a706-b0c70e925ebe"
      },
      "source": [
        "print(get_recomm('우대금리'))"
      ],
      "execution_count": 23,
      "outputs": [
        {
          "output_type": "stream",
          "text": [
            "***단어 추천 순위***\n",
            "1순위 : 우대금리\n",
            "2순위 : 국고채금리\n",
            "3순위 : 외환시장\n",
            "4순위 : 기준금리\n",
            "5순위 : 여신금리\n",
            "None\n"
          ],
          "name": "stdout"
        }
      ]
    },
    {
      "cell_type": "code",
      "metadata": {
        "id": "NECY2N3dKMu3"
      },
      "source": [
        ""
      ],
      "execution_count": null,
      "outputs": []
    }
  ]
}