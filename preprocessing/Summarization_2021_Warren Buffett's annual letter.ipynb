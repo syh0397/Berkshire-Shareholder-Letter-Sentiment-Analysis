{
  "cells": [
    {
      "cell_type": "code",
      "execution_count": 13,
      "metadata": {
        "colab": {
          "base_uri": "https://localhost:8080/"
        },
        "id": "oIpZ8FW2UZvk",
        "outputId": "c9f5201d-8c07-4d0f-ee11-e567d07e6f55"
      },
      "outputs": [
        {
          "name": "stdout",
          "output_type": "stream",
          "text": [
            "Requirement already satisfied: transformers in /usr/local/lib/python3.7/dist-packages (4.5.1)\n",
            "Requirement already satisfied: filelock in /usr/local/lib/python3.7/dist-packages (from transformers) (3.0.12)\n",
            "Requirement already satisfied: packaging in /usr/local/lib/python3.7/dist-packages (from transformers) (20.9)\n",
            "Requirement already satisfied: tokenizers<0.11,>=0.10.1 in /usr/local/lib/python3.7/dist-packages (from transformers) (0.10.2)\n",
            "Requirement already satisfied: sacremoses in /usr/local/lib/python3.7/dist-packages (from transformers) (0.0.45)\n",
            "Requirement already satisfied: regex!=2019.12.17 in /usr/local/lib/python3.7/dist-packages (from transformers) (2019.12.20)\n",
            "Requirement already satisfied: importlib-metadata; python_version < \"3.8\" in /usr/local/lib/python3.7/dist-packages (from transformers) (3.10.1)\n",
            "Requirement already satisfied: tqdm>=4.27 in /usr/local/lib/python3.7/dist-packages (from transformers) (4.41.1)\n",
            "Requirement already satisfied: numpy>=1.17 in /usr/local/lib/python3.7/dist-packages (from transformers) (1.19.5)\n",
            "Requirement already satisfied: requests in /usr/local/lib/python3.7/dist-packages (from transformers) (2.23.0)\n",
            "Requirement already satisfied: pyparsing>=2.0.2 in /usr/local/lib/python3.7/dist-packages (from packaging->transformers) (2.4.7)\n",
            "Requirement already satisfied: click in /usr/local/lib/python3.7/dist-packages (from sacremoses->transformers) (7.1.2)\n",
            "Requirement already satisfied: six in /usr/local/lib/python3.7/dist-packages (from sacremoses->transformers) (1.15.0)\n",
            "Requirement already satisfied: joblib in /usr/local/lib/python3.7/dist-packages (from sacremoses->transformers) (1.0.1)\n",
            "Requirement already satisfied: zipp>=0.5 in /usr/local/lib/python3.7/dist-packages (from importlib-metadata; python_version < \"3.8\"->transformers) (3.4.1)\n",
            "Requirement already satisfied: typing-extensions>=3.6.4; python_version < \"3.8\" in /usr/local/lib/python3.7/dist-packages (from importlib-metadata; python_version < \"3.8\"->transformers) (3.7.4.3)\n",
            "Requirement already satisfied: chardet<4,>=3.0.2 in /usr/local/lib/python3.7/dist-packages (from requests->transformers) (3.0.4)\n",
            "Requirement already satisfied: urllib3!=1.25.0,!=1.25.1,<1.26,>=1.21.1 in /usr/local/lib/python3.7/dist-packages (from requests->transformers) (1.24.3)\n",
            "Requirement already satisfied: idna<3,>=2.5 in /usr/local/lib/python3.7/dist-packages (from requests->transformers) (2.10)\n",
            "Requirement already satisfied: certifi>=2017.4.17 in /usr/local/lib/python3.7/dist-packages (from requests->transformers) (2020.12.5)\n"
          ]
        }
      ],
      "source": [
        "!pip install transformers"
      ]
    },
    {
      "cell_type": "code",
      "execution_count": 14,
      "metadata": {
        "id": "mutimIsIcSdx"
      },
      "outputs": [],
      "source": [
        "from transformers import pipeline"
      ]
    },
    {
      "cell_type": "code",
      "execution_count": 15,
      "metadata": {
        "id": "I713_kuScdX1"
      },
      "outputs": [],
      "source": [
        "summarizer = pipeline(\"summarization\")"
      ]
    },
    {
      "cell_type": "code",
      "execution_count": 16,
      "metadata": {
        "id": "7YDkTAFldc0-"
      },
      "outputs": [],
      "source": [
        "ARTICLE = \"\"\"Berkshire is the largest owner of American-based property, plant, and equipment with fixed assets of $154 billion, followed by AT&T, at $127 billion. That Berkshire fact alone means it is an asset-heavy company that invests a lot of capital, not necessarily generating the best-earning results or even a good investment.\n",
        "\n",
        "As most business college students learn in school, good returns can come from companies with minimal assets in high-margin businesses that have expanding topline growth. Simply being asset-heavy is not a reflection of a beauty contest.\"\"\""
      ]
    },
    {
      "cell_type": "code",
      "execution_count": 17,
      "metadata": {
        "colab": {
          "base_uri": "https://localhost:8080/"
        },
        "id": "ql7IAP0jdYy3",
        "outputId": "0e2d02ae-88ee-45f4-d797-f12ee342173e"
      },
      "outputs": [
        {
          "name": "stderr",
          "output_type": "stream",
          "text": [
            "Your max_length is set to 300, but you input_length is only 117. You might consider decreasing max_length manually, e.g. summarizer('...', max_length=50)\n"
          ]
        },
        {
          "data": {
            "text/plain": [
              "[{'summary_text': ' Berkshire is the largest owner of American-based property, plant, and equipment with fixed assets of $154 billion, followed by AT&T, at $127 billion . That Berkshire fact alone means it is an asset-heavy company that invests a lot of capital .'}]"
            ]
          },
          "execution_count": 17,
          "metadata": {
            "tags": []
          },
          "output_type": "execute_result"
        }
      ],
      "source": [
        "summarizer(ARTICLE, max_length=300, min_length=10, do_sample=False)"
      ]
    },
    {
      "cell_type": "markdown",
      "metadata": {
        "id": "sAvjIGZvd613"
      },
      "source": [
        "Berkshire is the largest owner of American-based property, plant, and equipment with fixed assets of $154 billion, followed by AT&T, at $127 billion . That Berkshire fact alone means it is an asset-heavy company that invests a lot of capital"
      ]
    },
    {
      "cell_type": "code",
      "execution_count": 18,
      "metadata": {
        "colab": {
          "base_uri": "https://localhost:8080/"
        },
        "id": "okspvN7Iker5",
        "outputId": "ff16986f-98d3-42d2-cb99-440d0f460205"
      },
      "outputs": [
        {
          "name": "stdout",
          "output_type": "stream",
          "text": [
            "557\n",
            "240\n"
          ]
        }
      ],
      "source": [
        "print(len(ARTICLE))\n",
        "print(len(\"Berkshire is the largest owner of American-based property, plant, and equipment with fixed assets of  154 billion, followed by AT&T, at 127 billion . That Berkshire fact alone means it is an asset-heavy company that invests a lot of capital\"))"
      ]
    },
    {
      "cell_type": "markdown",
      "metadata": {
        "id": "6aFa6vASktZZ"
      },
      "source": [
        "2분의 1로 문장이 줄어들었다! \n",
        "\n",
        "---\n",
        "do_sample을 True로 해보자\n"
      ]
    },
    {
      "cell_type": "code",
      "execution_count": 19,
      "metadata": {
        "colab": {
          "base_uri": "https://localhost:8080/"
        },
        "id": "7APyhzM7llui",
        "outputId": "0c46caad-eaf8-4c3b-e3cf-7c45716251c6"
      },
      "outputs": [
        {
          "data": {
            "text/plain": [
              "[{'summary_text': ' Berkshire is the largest owner of American-based property, plant, and equipment with fixed assets of $154 billion . AT&T is the second-largest U.S. company, followed by Berkshire at $127 billion . Good returns can come from companies with minimal assets in high-margin businesses that have expanding topline growth . Simply being asset-heavy is not a reflection of a beauty contest .'}]"
            ]
          },
          "execution_count": 19,
          "metadata": {
            "tags": []
          },
          "output_type": "execute_result"
        }
      ],
      "source": [
        "summarizer(ARTICLE, max_length=100, min_length=10, do_sample=True)"
      ]
    },
    {
      "cell_type": "markdown",
      "metadata": {
        "id": "gbsP1da1ldBK"
      },
      "source": [
        "Berkshire is the largest owner of American-based property, plant, and equipment with fixed assets of $154 billion . AT&T, at $127 billion, is the second-largest U.S.-based company, followed by Berkshire . Good returns can come from companies with minimal assets in high-margin businesses that have expanding topline growth "
      ]
    },
    {
      "cell_type": "markdown",
      "metadata": {
        "id": "ijEcSx9dlkkR"
      },
      "source": [
        "Berkshire는 고정 자산 1,540 억 달러를 보유한 미국 기반 부동산, 플랜트 및 장비의 최대 소유주입니다. AT & T (1,270 억)는 미국에서 두 번째로 큰 회사이며 Berkshire 뒤를 이었습니다. 외형 성장이 확대되고있는 고수익 사업에서 최소한의 자산을 가진 회사에서 좋은 수익을 얻을 수 있습니다."
      ]
    },
    {
      "cell_type": "markdown",
      "metadata": {
        "id": "Otid7-aTmD6s"
      },
      "source": [
        "성능이 굉장히 괜찮다! \n",
        "\n",
        "---\n",
        "\n"
      ]
    },
    {
      "cell_type": "code",
      "execution_count": 20,
      "metadata": {
        "id": "SCbmMTwx54U1"
      },
      "outputs": [],
      "source": [
        "from transformers import pipeline\n",
        "\n",
        "def summarize (Artcles):\n",
        "  return summarizer(Artcles, max_length=300, min_length=10, do_sample=False)"
      ]
    },
    {
      "cell_type": "code",
      "execution_count": 21,
      "metadata": {
        "colab": {
          "base_uri": "https://localhost:8080/"
        },
        "id": "gt1XIuW261F8",
        "outputId": "824af726-a0f0-46f8-84ec-9da5c20880a3"
      },
      "outputs": [
        {
          "name": "stderr",
          "output_type": "stream",
          "text": [
            "Your max_length is set to 300, but you input_length is only 117. You might consider decreasing max_length manually, e.g. summarizer('...', max_length=50)\n"
          ]
        },
        {
          "data": {
            "text/plain": [
              "[{'summary_text': ' Berkshire is the largest owner of American-based property, plant, and equipment with fixed assets of $154 billion, followed by AT&T, at $127 billion . That Berkshire fact alone means it is an asset-heavy company that invests a lot of capital .'}]"
            ]
          },
          "execution_count": 21,
          "metadata": {
            "tags": []
          },
          "output_type": "execute_result"
        }
      ],
      "source": [
        "summarize(ARTICLE)"
      ]
    },
    {
      "cell_type": "markdown",
      "metadata": {
        "id": "rhzMWnVsyb9T"
      },
      "source": [
        "2021년 버크셔 헤서웨이의 주주서한을 불러오자 "
      ]
    },
    {
      "cell_type": "code",
      "execution_count": 22,
      "metadata": {
        "colab": {
          "base_uri": "https://localhost:8080/"
        },
        "id": "IhJyGAZRd2Vu",
        "outputId": "0980c511-7f8e-41f3-87eb-4ad2668f01eb"
      },
      "outputs": [
        {
          "name": "stdout",
          "output_type": "stream",
          "text": [
            "Mounted at /gdrive\n"
          ]
        }
      ],
      "source": [
        "from google.colab import drive\n",
        "drive.mount('/gdrive', force_remount=True)"
      ]
    },
    {
      "cell_type": "code",
      "execution_count": 23,
      "metadata": {
        "colab": {
          "base_uri": "https://localhost:8080/",
          "height": 947
        },
        "id": "0y_L7d58D6Dm",
        "outputId": "c23922f7-67f5-4dac-f854-437f365dfced"
      },
      "outputs": [
        {
          "data": {
            "text/html": [
              "<div>\n",
              "<style scoped>\n",
              "    .dataframe tbody tr th:only-of-type {\n",
              "        vertical-align: middle;\n",
              "    }\n",
              "\n",
              "    .dataframe tbody tr th {\n",
              "        vertical-align: top;\n",
              "    }\n",
              "\n",
              "    .dataframe thead th {\n",
              "        text-align: right;\n",
              "    }\n",
              "</style>\n",
              "<table border=\"1\" class=\"dataframe\">\n",
              "  <thead>\n",
              "    <tr style=\"text-align: right;\">\n",
              "      <th></th>\n",
              "      <th>id</th>\n",
              "      <th>document</th>\n",
              "    </tr>\n",
              "  </thead>\n",
              "  <tbody>\n",
              "    <tr>\n",
              "      <th>0</th>\n",
              "      <td>1</td>\n",
              "      <td>Berkshire earned $42.5 billion in 2020 accordi...</td>\n",
              "    </tr>\n",
              "    <tr>\n",
              "      <th>1</th>\n",
              "      <td>2</td>\n",
              "      <td>Operating earnings are what count most, even d...</td>\n",
              "    </tr>\n",
              "    <tr>\n",
              "      <th>2</th>\n",
              "      <td>3</td>\n",
              "      <td>The two GAAP components pertaining to capital ...</td>\n",
              "    </tr>\n",
              "    <tr>\n",
              "      <th>3</th>\n",
              "      <td>4</td>\n",
              "      <td>As I’ve emphasized many times, Charlie and I v...</td>\n",
              "    </tr>\n",
              "    <tr>\n",
              "      <th>4</th>\n",
              "      <td>5</td>\n",
              "      <td>What’s out of sight, however, should not be ou...</td>\n",
              "    </tr>\n",
              "    <tr>\n",
              "      <th>5</th>\n",
              "      <td>6</td>\n",
              "      <td>Of course, some of our investees will disappoi...</td>\n",
              "    </tr>\n",
              "    <tr>\n",
              "      <th>6</th>\n",
              "      <td>7</td>\n",
              "      <td>The final component in our GAAP figure – that ...</td>\n",
              "    </tr>\n",
              "    <tr>\n",
              "      <th>7</th>\n",
              "      <td>8</td>\n",
              "      <td>No one misled me in any way – I was simply too...</td>\n",
              "    </tr>\n",
              "    <tr>\n",
              "      <th>8</th>\n",
              "      <td>9</td>\n",
              "      <td>I believe I was right in concluding that PCC w...</td>\n",
              "    </tr>\n",
              "    <tr>\n",
              "      <th>9</th>\n",
              "      <td>10</td>\n",
              "      <td>Two Strings to Our Bow Berkshire is often labe...</td>\n",
              "    </tr>\n",
              "    <tr>\n",
              "      <th>10</th>\n",
              "      <td>11</td>\n",
              "      <td>Over time, conglomerates have generally limite...</td>\n",
              "    </tr>\n",
              "    <tr>\n",
              "      <th>11</th>\n",
              "      <td>12</td>\n",
              "      <td>Beyond that, as conglomerateurs dipped into th...</td>\n",
              "    </tr>\n",
              "    <tr>\n",
              "      <th>12</th>\n",
              "      <td>13</td>\n",
              "      <td>Often, the tools for fostering the overvaluati...</td>\n",
              "    </tr>\n",
              "    <tr>\n",
              "      <th>13</th>\n",
              "      <td>14</td>\n",
              "      <td>Investing illusions can continue for a surpris...</td>\n",
              "    </tr>\n",
              "    <tr>\n",
              "      <th>14</th>\n",
              "      <td>15</td>\n",
              "      <td>Eventually, of course, the party ends, and man...</td>\n",
              "    </tr>\n",
              "    <tr>\n",
              "      <th>15</th>\n",
              "      <td>16</td>\n",
              "      <td>Charlie and I want our conglomerate to own all...</td>\n",
              "    </tr>\n",
              "    <tr>\n",
              "      <th>16</th>\n",
              "      <td>17</td>\n",
              "      <td>For those reasons, our conglomerate will remai...</td>\n",
              "    </tr>\n",
              "    <tr>\n",
              "      <th>17</th>\n",
              "      <td>18</td>\n",
              "      <td>If that strategy requires little or no effort ...</td>\n",
              "    </tr>\n",
              "    <tr>\n",
              "      <th>18</th>\n",
              "      <td>19</td>\n",
              "      <td>On page A-1 we list Berkshire’s subsidiaries, ...</td>\n",
              "    </tr>\n",
              "    <tr>\n",
              "      <th>19</th>\n",
              "      <td>20</td>\n",
              "      <td>Most of Berkshire’s value, however, resides in...</td>\n",
              "    </tr>\n",
              "    <tr>\n",
              "      <th>20</th>\n",
              "      <td>21</td>\n",
              "      <td>The largest in value is our property/casualty ...</td>\n",
              "    </tr>\n",
              "    <tr>\n",
              "      <th>21</th>\n",
              "      <td>22</td>\n",
              "      <td>Overall, the insurance fleet operates with far...</td>\n",
              "    </tr>\n",
              "    <tr>\n",
              "      <th>22</th>\n",
              "      <td>23</td>\n",
              "      <td>And bonds are not the place to be these days. ...</td>\n",
              "    </tr>\n",
              "    <tr>\n",
              "      <th>23</th>\n",
              "      <td>24</td>\n",
              "      <td>Some insurers, as well as other bond investors...</td>\n",
              "    </tr>\n",
              "    <tr>\n",
              "      <th>24</th>\n",
              "      <td>25</td>\n",
              "      <td>Berkshire now enjoys $138 billion of insurance...</td>\n",
              "    </tr>\n",
              "    <tr>\n",
              "      <th>25</th>\n",
              "      <td>26</td>\n",
              "      <td>I have repetitiously – some might say endlessl...</td>\n",
              "    </tr>\n",
              "    <tr>\n",
              "      <th>26</th>\n",
              "      <td>27</td>\n",
              "      <td>Our second and third most valuable assets – it...</td>\n",
              "    </tr>\n",
              "    <tr>\n",
              "      <th>27</th>\n",
              "      <td>28</td>\n",
              "      <td>I’ll have more to say about BNSF and BHE later...</td>\n",
              "    </tr>\n",
              "    <tr>\n",
              "      <th>28</th>\n",
              "      <td>29</td>\n",
              "      <td>Last year we demonstrated our enthusiasm for B...</td>\n",
              "    </tr>\n",
              "    <tr>\n",
              "      <th>29</th>\n",
              "      <td>30</td>\n",
              "      <td>Following criteria Charlie and I have long rec...</td>\n",
              "    </tr>\n",
              "  </tbody>\n",
              "</table>\n",
              "</div>"
            ],
            "text/plain": [
              "    id                                           document\n",
              "0    1  Berkshire earned $42.5 billion in 2020 accordi...\n",
              "1    2  Operating earnings are what count most, even d...\n",
              "2    3  The two GAAP components pertaining to capital ...\n",
              "3    4  As I’ve emphasized many times, Charlie and I v...\n",
              "4    5  What’s out of sight, however, should not be ou...\n",
              "5    6  Of course, some of our investees will disappoi...\n",
              "6    7  The final component in our GAAP figure – that ...\n",
              "7    8  No one misled me in any way – I was simply too...\n",
              "8    9  I believe I was right in concluding that PCC w...\n",
              "9   10  Two Strings to Our Bow Berkshire is often labe...\n",
              "10  11  Over time, conglomerates have generally limite...\n",
              "11  12  Beyond that, as conglomerateurs dipped into th...\n",
              "12  13  Often, the tools for fostering the overvaluati...\n",
              "13  14  Investing illusions can continue for a surpris...\n",
              "14  15  Eventually, of course, the party ends, and man...\n",
              "15  16  Charlie and I want our conglomerate to own all...\n",
              "16  17  For those reasons, our conglomerate will remai...\n",
              "17  18  If that strategy requires little or no effort ...\n",
              "18  19  On page A-1 we list Berkshire’s subsidiaries, ...\n",
              "19  20  Most of Berkshire’s value, however, resides in...\n",
              "20  21  The largest in value is our property/casualty ...\n",
              "21  22  Overall, the insurance fleet operates with far...\n",
              "22  23  And bonds are not the place to be these days. ...\n",
              "23  24  Some insurers, as well as other bond investors...\n",
              "24  25  Berkshire now enjoys $138 billion of insurance...\n",
              "25  26  I have repetitiously – some might say endlessl...\n",
              "26  27  Our second and third most valuable assets – it...\n",
              "27  28  I’ll have more to say about BNSF and BHE later...\n",
              "28  29  Last year we demonstrated our enthusiasm for B...\n",
              "29  30  Following criteria Charlie and I have long rec..."
            ]
          },
          "execution_count": 23,
          "metadata": {
            "tags": []
          },
          "output_type": "execute_result"
        }
      ],
      "source": [
        "import numpy as np\n",
        "import pandas as pd\n",
        "\n",
        "df = pd.read_excel('/gdrive/MyDrive/birk2021.xlsx')\n",
        "df.head(30)"
      ]
    },
    {
      "cell_type": "markdown",
      "metadata": {
        "id": "hI7gBItseDVI"
      },
      "source": [
        "2021 주주서한을 라이브러리를 활용해 요약해준다"
      ]
    },
    {
      "cell_type": "code",
      "execution_count": 24,
      "metadata": {
        "colab": {
          "base_uri": "https://localhost:8080/"
        },
        "id": "FoeylEGyENl1",
        "outputId": "c70c967f-defb-403b-9930-c50fb7202133"
      },
      "outputs": [
        {
          "name": "stderr",
          "output_type": "stream",
          "text": [
            "Your max_length is set to 300, but you input_length is only 123. You might consider decreasing max_length manually, e.g. summarizer('...', max_length=50)\n",
            "Your max_length is set to 300, but you input_length is only 104. You might consider decreasing max_length manually, e.g. summarizer('...', max_length=50)\n",
            "Your max_length is set to 300, but you input_length is only 81. You might consider decreasing max_length manually, e.g. summarizer('...', max_length=50)\n",
            "Your max_length is set to 300, but you input_length is only 126. You might consider decreasing max_length manually, e.g. summarizer('...', max_length=50)\n",
            "Your max_length is set to 300, but you input_length is only 120. You might consider decreasing max_length manually, e.g. summarizer('...', max_length=50)\n",
            "Your max_length is set to 300, but you input_length is only 100. You might consider decreasing max_length manually, e.g. summarizer('...', max_length=50)\n",
            "Your max_length is set to 300, but you input_length is only 58. You might consider decreasing max_length manually, e.g. summarizer('...', max_length=50)\n",
            "Your max_length is set to 300, but you input_length is only 113. You might consider decreasing max_length manually, e.g. summarizer('...', max_length=50)\n",
            "Your max_length is set to 300, but you input_length is only 83. You might consider decreasing max_length manually, e.g. summarizer('...', max_length=50)\n",
            "Your max_length is set to 300, but you input_length is only 67. You might consider decreasing max_length manually, e.g. summarizer('...', max_length=50)\n",
            "Your max_length is set to 300, but you input_length is only 86. You might consider decreasing max_length manually, e.g. summarizer('...', max_length=50)\n",
            "Your max_length is set to 300, but you input_length is only 112. You might consider decreasing max_length manually, e.g. summarizer('...', max_length=50)\n",
            "Your max_length is set to 300, but you input_length is only 84. You might consider decreasing max_length manually, e.g. summarizer('...', max_length=50)\n",
            "Your max_length is set to 300, but you input_length is only 63. You might consider decreasing max_length manually, e.g. summarizer('...', max_length=50)\n",
            "Your max_length is set to 300, but you input_length is only 67. You might consider decreasing max_length manually, e.g. summarizer('...', max_length=50)\n",
            "Your max_length is set to 300, but you input_length is only 104. You might consider decreasing max_length manually, e.g. summarizer('...', max_length=50)\n",
            "Your max_length is set to 300, but you input_length is only 59. You might consider decreasing max_length manually, e.g. summarizer('...', max_length=50)\n",
            "Your max_length is set to 300, but you input_length is only 78. You might consider decreasing max_length manually, e.g. summarizer('...', max_length=50)\n",
            "Your max_length is set to 300, but you input_length is only 91. You might consider decreasing max_length manually, e.g. summarizer('...', max_length=50)\n",
            "Your max_length is set to 300, but you input_length is only 38. You might consider decreasing max_length manually, e.g. summarizer('...', max_length=50)\n",
            "Your max_length is set to 300, but you input_length is only 56. You might consider decreasing max_length manually, e.g. summarizer('...', max_length=50)\n",
            "Your max_length is set to 300, but you input_length is only 83. You might consider decreasing max_length manually, e.g. summarizer('...', max_length=50)\n",
            "Your max_length is set to 300, but you input_length is only 107. You might consider decreasing max_length manually, e.g. summarizer('...', max_length=50)\n",
            "Your max_length is set to 300, but you input_length is only 69. You might consider decreasing max_length manually, e.g. summarizer('...', max_length=50)\n",
            "Your max_length is set to 300, but you input_length is only 125. You might consider decreasing max_length manually, e.g. summarizer('...', max_length=50)\n",
            "Your max_length is set to 300, but you input_length is only 88. You might consider decreasing max_length manually, e.g. summarizer('...', max_length=50)\n",
            "Your max_length is set to 300, but you input_length is only 114. You might consider decreasing max_length manually, e.g. summarizer('...', max_length=50)\n",
            "Your max_length is set to 300, but you input_length is only 62. You might consider decreasing max_length manually, e.g. summarizer('...', max_length=50)\n",
            "Your max_length is set to 300, but you input_length is only 72. You might consider decreasing max_length manually, e.g. summarizer('...', max_length=50)\n",
            "Your max_length is set to 300, but you input_length is only 48. You might consider decreasing max_length manually, e.g. summarizer('...', max_length=50)\n",
            "Your max_length is set to 300, but you input_length is only 60. You might consider decreasing max_length manually, e.g. summarizer('...', max_length=50)\n",
            "Your max_length is set to 300, but you input_length is only 106. You might consider decreasing max_length manually, e.g. summarizer('...', max_length=50)\n",
            "Your max_length is set to 300, but you input_length is only 52. You might consider decreasing max_length manually, e.g. summarizer('...', max_length=50)\n",
            "Your max_length is set to 300, but you input_length is only 50. You might consider decreasing max_length manually, e.g. summarizer('...', max_length=50)\n",
            "Your max_length is set to 300, but you input_length is only 56. You might consider decreasing max_length manually, e.g. summarizer('...', max_length=50)\n",
            "Your max_length is set to 300, but you input_length is only 85. You might consider decreasing max_length manually, e.g. summarizer('...', max_length=50)\n",
            "Your max_length is set to 300, but you input_length is only 40. You might consider decreasing max_length manually, e.g. summarizer('...', max_length=50)\n",
            "Your max_length is set to 300, but you input_length is only 133. You might consider decreasing max_length manually, e.g. summarizer('...', max_length=50)\n",
            "Your max_length is set to 300, but you input_length is only 52. You might consider decreasing max_length manually, e.g. summarizer('...', max_length=50)\n",
            "Your max_length is set to 300, but you input_length is only 100. You might consider decreasing max_length manually, e.g. summarizer('...', max_length=50)\n",
            "Your max_length is set to 300, but you input_length is only 116. You might consider decreasing max_length manually, e.g. summarizer('...', max_length=50)\n",
            "Your max_length is set to 300, but you input_length is only 95. You might consider decreasing max_length manually, e.g. summarizer('...', max_length=50)\n",
            "Your max_length is set to 300, but you input_length is only 77. You might consider decreasing max_length manually, e.g. summarizer('...', max_length=50)\n",
            "Your max_length is set to 300, but you input_length is only 47. You might consider decreasing max_length manually, e.g. summarizer('...', max_length=50)\n",
            "Your max_length is set to 300, but you input_length is only 55. You might consider decreasing max_length manually, e.g. summarizer('...', max_length=50)\n",
            "Your max_length is set to 300, but you input_length is only 64. You might consider decreasing max_length manually, e.g. summarizer('...', max_length=50)\n",
            "Your max_length is set to 300, but you input_length is only 149. You might consider decreasing max_length manually, e.g. summarizer('...', max_length=50)\n",
            "Your max_length is set to 300, but you input_length is only 42. You might consider decreasing max_length manually, e.g. summarizer('...', max_length=50)\n",
            "Your max_length is set to 300, but you input_length is only 46. You might consider decreasing max_length manually, e.g. summarizer('...', max_length=50)\n",
            "Your max_length is set to 300, but you input_length is only 42. You might consider decreasing max_length manually, e.g. summarizer('...', max_length=50)\n",
            "Your max_length is set to 300, but you input_length is only 96. You might consider decreasing max_length manually, e.g. summarizer('...', max_length=50)\n",
            "Your max_length is set to 300, but you input_length is only 70. You might consider decreasing max_length manually, e.g. summarizer('...', max_length=50)\n",
            "Your max_length is set to 300, but you input_length is only 85. You might consider decreasing max_length manually, e.g. summarizer('...', max_length=50)\n",
            "Your max_length is set to 300, but you input_length is only 42. You might consider decreasing max_length manually, e.g. summarizer('...', max_length=50)\n",
            "Your max_length is set to 300, but you input_length is only 86. You might consider decreasing max_length manually, e.g. summarizer('...', max_length=50)\n",
            "Your max_length is set to 300, but you input_length is only 55. You might consider decreasing max_length manually, e.g. summarizer('...', max_length=50)\n",
            "Your max_length is set to 300, but you input_length is only 56. You might consider decreasing max_length manually, e.g. summarizer('...', max_length=50)\n",
            "Your max_length is set to 300, but you input_length is only 56. You might consider decreasing max_length manually, e.g. summarizer('...', max_length=50)\n",
            "Your max_length is set to 300, but you input_length is only 36. You might consider decreasing max_length manually, e.g. summarizer('...', max_length=50)\n",
            "Your max_length is set to 300, but you input_length is only 37. You might consider decreasing max_length manually, e.g. summarizer('...', max_length=50)\n",
            "Your max_length is set to 300, but you input_length is only 81. You might consider decreasing max_length manually, e.g. summarizer('...', max_length=50)\n",
            "Your max_length is set to 300, but you input_length is only 78. You might consider decreasing max_length manually, e.g. summarizer('...', max_length=50)\n",
            "Your max_length is set to 300, but you input_length is only 98. You might consider decreasing max_length manually, e.g. summarizer('...', max_length=50)\n",
            "Your max_length is set to 300, but you input_length is only 64. You might consider decreasing max_length manually, e.g. summarizer('...', max_length=50)\n",
            "Your max_length is set to 300, but you input_length is only 48. You might consider decreasing max_length manually, e.g. summarizer('...', max_length=50)\n",
            "Your max_length is set to 300, but you input_length is only 48. You might consider decreasing max_length manually, e.g. summarizer('...', max_length=50)\n",
            "Your max_length is set to 300, but you input_length is only 63. You might consider decreasing max_length manually, e.g. summarizer('...', max_length=50)\n",
            "Your max_length is set to 300, but you input_length is only 60. You might consider decreasing max_length manually, e.g. summarizer('...', max_length=50)\n",
            "Your max_length is set to 300, but you input_length is only 41. You might consider decreasing max_length manually, e.g. summarizer('...', max_length=50)\n",
            "Your max_length is set to 300, but you input_length is only 69. You might consider decreasing max_length manually, e.g. summarizer('...', max_length=50)\n",
            "Your max_length is set to 300, but you input_length is only 145. You might consider decreasing max_length manually, e.g. summarizer('...', max_length=50)\n",
            "Your max_length is set to 300, but you input_length is only 101. You might consider decreasing max_length manually, e.g. summarizer('...', max_length=50)\n",
            "Your max_length is set to 300, but you input_length is only 71. You might consider decreasing max_length manually, e.g. summarizer('...', max_length=50)\n",
            "Your max_length is set to 300, but you input_length is only 56. You might consider decreasing max_length manually, e.g. summarizer('...', max_length=50)\n",
            "Your max_length is set to 300, but you input_length is only 50. You might consider decreasing max_length manually, e.g. summarizer('...', max_length=50)\n",
            "Your max_length is set to 300, but you input_length is only 82. You might consider decreasing max_length manually, e.g. summarizer('...', max_length=50)\n",
            "Your max_length is set to 300, but you input_length is only 51. You might consider decreasing max_length manually, e.g. summarizer('...', max_length=50)\n",
            "Your max_length is set to 300, but you input_length is only 45. You might consider decreasing max_length manually, e.g. summarizer('...', max_length=50)\n",
            "Your max_length is set to 300, but you input_length is only 90. You might consider decreasing max_length manually, e.g. summarizer('...', max_length=50)\n",
            "Your max_length is set to 300, but you input_length is only 67. You might consider decreasing max_length manually, e.g. summarizer('...', max_length=50)\n",
            "Your max_length is set to 300, but you input_length is only 87. You might consider decreasing max_length manually, e.g. summarizer('...', max_length=50)\n",
            "Your max_length is set to 300, but you input_length is only 80. You might consider decreasing max_length manually, e.g. summarizer('...', max_length=50)\n",
            "Your max_length is set to 300, but you input_length is only 93. You might consider decreasing max_length manually, e.g. summarizer('...', max_length=50)\n",
            "Your max_length is set to 300, but you input_length is only 86. You might consider decreasing max_length manually, e.g. summarizer('...', max_length=50)\n",
            "Your max_length is set to 300, but you input_length is only 50. You might consider decreasing max_length manually, e.g. summarizer('...', max_length=50)\n",
            "Your max_length is set to 300, but you input_length is only 67. You might consider decreasing max_length manually, e.g. summarizer('...', max_length=50)\n",
            "Your max_length is set to 300, but you input_length is only 127. You might consider decreasing max_length manually, e.g. summarizer('...', max_length=50)\n",
            "Your max_length is set to 300, but you input_length is only 101. You might consider decreasing max_length manually, e.g. summarizer('...', max_length=50)\n",
            "Your max_length is set to 300, but you input_length is only 28. You might consider decreasing max_length manually, e.g. summarizer('...', max_length=50)\n",
            "Your max_length is set to 300, but you input_length is only 103. You might consider decreasing max_length manually, e.g. summarizer('...', max_length=50)\n",
            "Your max_length is set to 300, but you input_length is only 97. You might consider decreasing max_length manually, e.g. summarizer('...', max_length=50)\n",
            "Your max_length is set to 300, but you input_length is only 93. You might consider decreasing max_length manually, e.g. summarizer('...', max_length=50)\n",
            "Your max_length is set to 300, but you input_length is only 60. You might consider decreasing max_length manually, e.g. summarizer('...', max_length=50)\n",
            "Your max_length is set to 300, but you input_length is only 108. You might consider decreasing max_length manually, e.g. summarizer('...', max_length=50)\n",
            "Your max_length is set to 300, but you input_length is only 87. You might consider decreasing max_length manually, e.g. summarizer('...', max_length=50)\n",
            "Your max_length is set to 300, but you input_length is only 79. You might consider decreasing max_length manually, e.g. summarizer('...', max_length=50)\n",
            "Your max_length is set to 300, but you input_length is only 35. You might consider decreasing max_length manually, e.g. summarizer('...', max_length=50)\n",
            "Your max_length is set to 300, but you input_length is only 78. You might consider decreasing max_length manually, e.g. summarizer('...', max_length=50)\n",
            "Your max_length is set to 300, but you input_length is only 54. You might consider decreasing max_length manually, e.g. summarizer('...', max_length=50)\n",
            "Your max_length is set to 300, but you input_length is only 193. You might consider decreasing max_length manually, e.g. summarizer('...', max_length=50)\n",
            "Your max_length is set to 300, but you input_length is only 76. You might consider decreasing max_length manually, e.g. summarizer('...', max_length=50)\n",
            "Your max_length is set to 300, but you input_length is only 98. You might consider decreasing max_length manually, e.g. summarizer('...', max_length=50)\n",
            "Your max_length is set to 300, but you input_length is only 102. You might consider decreasing max_length manually, e.g. summarizer('...', max_length=50)\n",
            "Your max_length is set to 300, but you input_length is only 62. You might consider decreasing max_length manually, e.g. summarizer('...', max_length=50)\n",
            "Your max_length is set to 300, but you input_length is only 110. You might consider decreasing max_length manually, e.g. summarizer('...', max_length=50)\n",
            "Your max_length is set to 300, but you input_length is only 136. You might consider decreasing max_length manually, e.g. summarizer('...', max_length=50)\n",
            "Your max_length is set to 300, but you input_length is only 68. You might consider decreasing max_length manually, e.g. summarizer('...', max_length=50)\n",
            "Your max_length is set to 300, but you input_length is only 20. You might consider decreasing max_length manually, e.g. summarizer('...', max_length=50)\n",
            "Your max_length is set to 300, but you input_length is only 118. You might consider decreasing max_length manually, e.g. summarizer('...', max_length=50)\n",
            "Your max_length is set to 300, but you input_length is only 61. You might consider decreasing max_length manually, e.g. summarizer('...', max_length=50)\n",
            "Your max_length is set to 300, but you input_length is only 76. You might consider decreasing max_length manually, e.g. summarizer('...', max_length=50)\n",
            "Your max_length is set to 300, but you input_length is only 70. You might consider decreasing max_length manually, e.g. summarizer('...', max_length=50)\n",
            "Your max_length is set to 300, but you input_length is only 88. You might consider decreasing max_length manually, e.g. summarizer('...', max_length=50)\n",
            "Your max_length is set to 300, but you input_length is only 92. You might consider decreasing max_length manually, e.g. summarizer('...', max_length=50)\n",
            "Your max_length is set to 300, but you input_length is only 95. You might consider decreasing max_length manually, e.g. summarizer('...', max_length=50)\n"
          ]
        },
        {
          "data": {
            "text/plain": [
              "0      [{'summary_text': ' Berkshire earned $42.5 bil...\n",
              "1      [{'summary_text': ' Operating earnings are wha...\n",
              "2      [{'summary_text': ' The two GAAP components pe...\n",
              "3      [{'summary_text': ' Charlie and Charlie view B...\n",
              "4      [{'summary_text': ' Unrecorded retained earnin...\n",
              "                             ...                        \n",
              "110    [{'summary_text': ' See’s peanut brittle and f...\n",
              "111    [{'summary_text': ' This year, on May 1st, we ...\n",
              "112    [{'summary_text': ' Our formal meeting will co...\n",
              "113    [{'summary_text': ' This year our meeting will...\n",
              "114    [{'summary_text': ' Berkshire can't wait to ge...\n",
              "Name: document, Length: 115, dtype: object"
            ]
          },
          "execution_count": 24,
          "metadata": {
            "tags": []
          },
          "output_type": "execute_result"
        }
      ],
      "source": [
        "df = df['document'].apply(summarize)\n",
        "df"
      ]
    },
    {
      "cell_type": "markdown",
      "metadata": {
        "id": "uX9DxmaNeATH"
      },
      "source": [
        "데이터프레임으로 만들어주기\n"
      ]
    },
    {
      "cell_type": "code",
      "execution_count": null,
      "metadata": {
        "id": "9HSEjtT5JbqU"
      },
      "outputs": [],
      "source": [
        "df = df.reset_index(drop=True).to_frame('document')"
      ]
    },
    {
      "cell_type": "code",
      "execution_count": 34,
      "metadata": {
        "colab": {
          "base_uri": "https://localhost:8080/",
          "height": 406
        },
        "id": "-9QYQTaMcXaa",
        "outputId": "b9a33d41-423a-4c0e-ebd7-c6473712240a"
      },
      "outputs": [
        {
          "data": {
            "text/html": [
              "<div>\n",
              "<style scoped>\n",
              "    .dataframe tbody tr th:only-of-type {\n",
              "        vertical-align: middle;\n",
              "    }\n",
              "\n",
              "    .dataframe tbody tr th {\n",
              "        vertical-align: top;\n",
              "    }\n",
              "\n",
              "    .dataframe thead th {\n",
              "        text-align: right;\n",
              "    }\n",
              "</style>\n",
              "<table border=\"1\" class=\"dataframe\">\n",
              "  <thead>\n",
              "    <tr style=\"text-align: right;\">\n",
              "      <th></th>\n",
              "      <th>document</th>\n",
              "    </tr>\n",
              "  </thead>\n",
              "  <tbody>\n",
              "    <tr>\n",
              "      <th>0</th>\n",
              "      <td>[{'summary_text': ' Berkshire earned $42.5 bil...</td>\n",
              "    </tr>\n",
              "    <tr>\n",
              "      <th>1</th>\n",
              "      <td>[{'summary_text': ' Operating earnings are wha...</td>\n",
              "    </tr>\n",
              "    <tr>\n",
              "      <th>2</th>\n",
              "      <td>[{'summary_text': ' The two GAAP components pe...</td>\n",
              "    </tr>\n",
              "    <tr>\n",
              "      <th>3</th>\n",
              "      <td>[{'summary_text': ' Charlie and Charlie view B...</td>\n",
              "    </tr>\n",
              "    <tr>\n",
              "      <th>4</th>\n",
              "      <td>[{'summary_text': ' Unrecorded retained earnin...</td>\n",
              "    </tr>\n",
              "    <tr>\n",
              "      <th>...</th>\n",
              "      <td>...</td>\n",
              "    </tr>\n",
              "    <tr>\n",
              "      <th>110</th>\n",
              "      <td>[{'summary_text': ' See’s peanut brittle and f...</td>\n",
              "    </tr>\n",
              "    <tr>\n",
              "      <th>111</th>\n",
              "      <td>[{'summary_text': ' This year, on May 1st, we ...</td>\n",
              "    </tr>\n",
              "    <tr>\n",
              "      <th>112</th>\n",
              "      <td>[{'summary_text': ' Our formal meeting will co...</td>\n",
              "    </tr>\n",
              "    <tr>\n",
              "      <th>113</th>\n",
              "      <td>[{'summary_text': ' This year our meeting will...</td>\n",
              "    </tr>\n",
              "    <tr>\n",
              "      <th>114</th>\n",
              "      <td>[{'summary_text': ' Berkshire can't wait to ge...</td>\n",
              "    </tr>\n",
              "  </tbody>\n",
              "</table>\n",
              "<p>115 rows × 1 columns</p>\n",
              "</div>"
            ],
            "text/plain": [
              "                                              document\n",
              "0    [{'summary_text': ' Berkshire earned $42.5 bil...\n",
              "1    [{'summary_text': ' Operating earnings are wha...\n",
              "2    [{'summary_text': ' The two GAAP components pe...\n",
              "3    [{'summary_text': ' Charlie and Charlie view B...\n",
              "4    [{'summary_text': ' Unrecorded retained earnin...\n",
              "..                                                 ...\n",
              "110  [{'summary_text': ' See’s peanut brittle and f...\n",
              "111  [{'summary_text': ' This year, on May 1st, we ...\n",
              "112  [{'summary_text': ' Our formal meeting will co...\n",
              "113  [{'summary_text': ' This year our meeting will...\n",
              "114  [{'summary_text': ' Berkshire can't wait to ge...\n",
              "\n",
              "[115 rows x 1 columns]"
            ]
          },
          "execution_count": 34,
          "metadata": {
            "tags": []
          },
          "output_type": "execute_result"
        }
      ],
      "source": [
        "df"
      ]
    },
    {
      "cell_type": "markdown",
      "metadata": {
        "id": "DokJzTcEeS4K"
      },
      "source": [
        "위 excel파일을 저장해주고"
      ]
    },
    {
      "cell_type": "code",
      "execution_count": 35,
      "metadata": {
        "id": "XEcYOYqHeLUg"
      },
      "outputs": [],
      "source": [
        "df.to_excel('/gdrive/MyDrive/Colab Notebooks/2021letterforstockon.xlsx', index=False) "
      ]
    },
    {
      "cell_type": "markdown",
      "metadata": {
        "id": "lYN9lEaLeILC"
      },
      "source": [
        "요약이 잘 되었는지 지표를 잘 모르겠음 합쳐서 비교해보아야함"
      ]
    },
    {
      "cell_type": "code",
      "execution_count": 40,
      "metadata": {
        "colab": {
          "base_uri": "https://localhost:8080/"
        },
        "id": "U-tdm3KLc0M6",
        "outputId": "86b2cd09-68ca-41a9-bc9e-ecddd5b1f57e"
      },
      "outputs": [
        {
          "data": {
            "text/plain": [
              "(   id                                           document\n",
              " 0   1  Berkshire earned $42.5 billion in 2020 accordi...\n",
              " 1   2  Operating earnings are what count most, even d...\n",
              " 2   3  The two GAAP components pertaining to capital ...\n",
              " 3   4  As I’ve emphasized many times, Charlie and I v...\n",
              " 4   5  What’s out of sight, however, should not be ou..., (115, 2))"
            ]
          },
          "execution_count": 40,
          "metadata": {
            "tags": []
          },
          "output_type": "execute_result"
        }
      ],
      "source": [
        "df_origin = pd.read_excel('/gdrive/MyDrive/birk2021.xlsx')\n",
        "df_origin.head(), df_origin.shape"
      ]
    },
    {
      "cell_type": "markdown",
      "metadata": {
        "id": "Id6Mqq8zezRS"
      },
      "source": [
        "형태가 같은건 사실 확인 안해봐도 아니까 합쳐주자! "
      ]
    },
    {
      "cell_type": "code",
      "execution_count": 47,
      "metadata": {
        "colab": {
          "base_uri": "https://localhost:8080/",
          "height": 406
        },
        "id": "gN5RzRoKeqSS",
        "outputId": "258d2d24-b8c8-4184-c738-ca60cc0c1458"
      },
      "outputs": [
        {
          "data": {
            "text/html": [
              "<div>\n",
              "<style scoped>\n",
              "    .dataframe tbody tr th:only-of-type {\n",
              "        vertical-align: middle;\n",
              "    }\n",
              "\n",
              "    .dataframe tbody tr th {\n",
              "        vertical-align: top;\n",
              "    }\n",
              "\n",
              "    .dataframe thead th {\n",
              "        text-align: right;\n",
              "    }\n",
              "</style>\n",
              "<table border=\"1\" class=\"dataframe\">\n",
              "  <thead>\n",
              "    <tr style=\"text-align: right;\">\n",
              "      <th></th>\n",
              "      <th>document</th>\n",
              "      <th>id</th>\n",
              "      <th>document</th>\n",
              "    </tr>\n",
              "  </thead>\n",
              "  <tbody>\n",
              "    <tr>\n",
              "      <th>0</th>\n",
              "      <td>[{'summary_text': ' Berkshire earned $42.5 bil...</td>\n",
              "      <td>1</td>\n",
              "      <td>Berkshire earned $42.5 billion in 2020 accordi...</td>\n",
              "    </tr>\n",
              "    <tr>\n",
              "      <th>1</th>\n",
              "      <td>[{'summary_text': ' Operating earnings are wha...</td>\n",
              "      <td>2</td>\n",
              "      <td>Operating earnings are what count most, even d...</td>\n",
              "    </tr>\n",
              "    <tr>\n",
              "      <th>2</th>\n",
              "      <td>[{'summary_text': ' The two GAAP components pe...</td>\n",
              "      <td>3</td>\n",
              "      <td>The two GAAP components pertaining to capital ...</td>\n",
              "    </tr>\n",
              "    <tr>\n",
              "      <th>3</th>\n",
              "      <td>[{'summary_text': ' Charlie and Charlie view B...</td>\n",
              "      <td>4</td>\n",
              "      <td>As I’ve emphasized many times, Charlie and I v...</td>\n",
              "    </tr>\n",
              "    <tr>\n",
              "      <th>4</th>\n",
              "      <td>[{'summary_text': ' Unrecorded retained earnin...</td>\n",
              "      <td>5</td>\n",
              "      <td>What’s out of sight, however, should not be ou...</td>\n",
              "    </tr>\n",
              "    <tr>\n",
              "      <th>...</th>\n",
              "      <td>...</td>\n",
              "      <td>...</td>\n",
              "      <td>...</td>\n",
              "    </tr>\n",
              "    <tr>\n",
              "      <th>110</th>\n",
              "      <td>[{'summary_text': ' See’s peanut brittle and f...</td>\n",
              "      <td>111</td>\n",
              "      <td>Yahoo streamed the proceedings to a record-siz...</td>\n",
              "    </tr>\n",
              "    <tr>\n",
              "      <th>111</th>\n",
              "      <td>[{'summary_text': ' This year, on May 1st, we ...</td>\n",
              "      <td>112</td>\n",
              "      <td>This year, on May 1st, we are planning to go o...</td>\n",
              "    </tr>\n",
              "    <tr>\n",
              "      <th>112</th>\n",
              "      <td>[{'summary_text': ' Our formal meeting will co...</td>\n",
              "      <td>113</td>\n",
              "      <td>Our formal meeting will commence at 5:00 p.m. ...</td>\n",
              "    </tr>\n",
              "    <tr>\n",
              "      <th>113</th>\n",
              "      <td>[{'summary_text': ' This year our meeting will...</td>\n",
              "      <td>114</td>\n",
              "      <td>And now – drum roll, please – a surprise. This...</td>\n",
              "    </tr>\n",
              "    <tr>\n",
              "      <th>114</th>\n",
              "      <td>[{'summary_text': ' Berkshire can't wait to ge...</td>\n",
              "      <td>115</td>\n",
              "      <td>Join us via Yahoo. Direct your really tough qu...</td>\n",
              "    </tr>\n",
              "  </tbody>\n",
              "</table>\n",
              "<p>115 rows × 3 columns</p>\n",
              "</div>"
            ],
            "text/plain": [
              "                                              document  ...                                           document\n",
              "0    [{'summary_text': ' Berkshire earned $42.5 bil...  ...  Berkshire earned $42.5 billion in 2020 accordi...\n",
              "1    [{'summary_text': ' Operating earnings are wha...  ...  Operating earnings are what count most, even d...\n",
              "2    [{'summary_text': ' The two GAAP components pe...  ...  The two GAAP components pertaining to capital ...\n",
              "3    [{'summary_text': ' Charlie and Charlie view B...  ...  As I’ve emphasized many times, Charlie and I v...\n",
              "4    [{'summary_text': ' Unrecorded retained earnin...  ...  What’s out of sight, however, should not be ou...\n",
              "..                                                 ...  ...                                                ...\n",
              "110  [{'summary_text': ' See’s peanut brittle and f...  ...  Yahoo streamed the proceedings to a record-siz...\n",
              "111  [{'summary_text': ' This year, on May 1st, we ...  ...  This year, on May 1st, we are planning to go o...\n",
              "112  [{'summary_text': ' Our formal meeting will co...  ...  Our formal meeting will commence at 5:00 p.m. ...\n",
              "113  [{'summary_text': ' This year our meeting will...  ...  And now – drum roll, please – a surprise. This...\n",
              "114  [{'summary_text': ' Berkshire can't wait to ge...  ...  Join us via Yahoo. Direct your really tough qu...\n",
              "\n",
              "[115 rows x 3 columns]"
            ]
          },
          "execution_count": 47,
          "metadata": {
            "tags": []
          },
          "output_type": "execute_result"
        }
      ],
      "source": [
        "result = pd.concat([df, df_origin], axis = 1)\n",
        "result"
      ]
    },
    {
      "cell_type": "markdown",
      "metadata": {
        "id": "pgiRPhVOf0lD"
      },
      "source": [
        "대충 비슷한거 같으니 이제 긍정인지 부정인지 확인하러 가자! "
      ]
    },
    {
      "cell_type": "code",
      "execution_count": null,
      "metadata": {
        "id": "jHnv8azKfh03"
      },
      "outputs": [],
      "source": []
    }
  ],
  "metadata": {
    "accelerator": "GPU",
    "colab": {
      "name": "Untitled21.ipynb",
      "provenance": []
    },
    "kernelspec": {
      "display_name": "Python 3",
      "name": "python3"
    },
    "language_info": {
      "name": "python"
    }
  },
  "nbformat": 4,
  "nbformat_minor": 0
}
